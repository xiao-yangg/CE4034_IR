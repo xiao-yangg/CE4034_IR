{
 "cells": [
  {
   "cell_type": "markdown",
   "metadata": {
    "id": "8o_BLrwT77s3"
   },
   "source": [
    "# Classification"
   ]
  },
  {
   "cell_type": "markdown",
   "metadata": {
    "id": "ruL7TkGZTJXs"
   },
   "source": [
    "### Import Packages"
   ]
  },
  {
   "cell_type": "code",
   "execution_count": 1,
   "metadata": {
    "colab": {
     "base_uri": "https://localhost:8080/"
    },
    "id": "ncAdzwABo0DW",
    "outputId": "2c22eb4b-3a18-49e2-d28d-622bdbe98ebb"
   },
   "outputs": [],
   "source": [
    "import tensorflow as tf\n",
    "import tensorflow_hub as hub\n",
    "import tensorflow_text as text\n",
    "from tensorflow.keras.optimizers import Adam\n",
    "from tensorflow.keras.callbacks import EarlyStopping\n",
    "\n",
    "import pandas as pd\n",
    "import matplotlib.pyplot as plt\n",
    "import seaborn as sns\n",
    "import numpy as np\n",
    "\n",
    "from sklearn.model_selection import train_test_split\n",
    "from sklearn.metrics import accuracy_score\n",
    "from sklearn.metrics import f1_score\n",
    "from sklearn.metrics import classification_report, confusion_matrix\n",
    "from sklearn.model_selection import StratifiedKFold\n",
    "\n",
    "# Set seed for RNG\n",
    "SEED = 12"
   ]
  },
  {
   "cell_type": "markdown",
   "metadata": {},
   "source": [
    "### Loading Dataset"
   ]
  },
  {
   "cell_type": "code",
   "execution_count": 2,
   "metadata": {},
   "outputs": [
    {
     "data": {
      "text/html": [
       "<div>\n",
       "<style scoped>\n",
       "    .dataframe tbody tr th:only-of-type {\n",
       "        vertical-align: middle;\n",
       "    }\n",
       "\n",
       "    .dataframe tbody tr th {\n",
       "        vertical-align: top;\n",
       "    }\n",
       "\n",
       "    .dataframe thead th {\n",
       "        text-align: right;\n",
       "    }\n",
       "</style>\n",
       "<table border=\"1\" class=\"dataframe\">\n",
       "  <thead>\n",
       "    <tr style=\"text-align: right;\">\n",
       "      <th></th>\n",
       "      <th>dataset</th>\n",
       "      <th>category</th>\n",
       "      <th>subreddit</th>\n",
       "      <th>author</th>\n",
       "      <th>created_date</th>\n",
       "      <th>score</th>\n",
       "      <th>text</th>\n",
       "      <th>text_clean</th>\n",
       "      <th>label_1</th>\n",
       "      <th>label_2</th>\n",
       "      <th>label_3</th>\n",
       "      <th>final_label</th>\n",
       "      <th>text_clean_stopword</th>\n",
       "      <th>index</th>\n",
       "    </tr>\n",
       "  </thead>\n",
       "  <tbody>\n",
       "    <tr>\n",
       "      <th>0</th>\n",
       "      <td>train</td>\n",
       "      <td>comment</td>\n",
       "      <td>r/cscareerquestions</td>\n",
       "      <td>Linooney</td>\n",
       "      <td>4/30/2020 1:58</td>\n",
       "      <td>20</td>\n",
       "      <td>&gt; People wait for existing faculty to die to h...</td>\n",
       "      <td>people wait for existing faculty to die to hav...</td>\n",
       "      <td>POSITIVE</td>\n",
       "      <td>POSITIVE</td>\n",
       "      <td>NEUTRAL</td>\n",
       "      <td>POSITIVE</td>\n",
       "      <td>people wait existing faculty die space hire lm...</td>\n",
       "      <td>0</td>\n",
       "    </tr>\n",
       "    <tr>\n",
       "      <th>1</th>\n",
       "      <td>train</td>\n",
       "      <td>comment</td>\n",
       "      <td>r/cscareerquestions</td>\n",
       "      <td>Dunan</td>\n",
       "      <td>4/30/2020 4:07</td>\n",
       "      <td>1</td>\n",
       "      <td>&gt; People who are being layed off, are they sof...</td>\n",
       "      <td>people who are being layed off are they softwa...</td>\n",
       "      <td>POSITIVE</td>\n",
       "      <td>POSITIVE</td>\n",
       "      <td>NEUTRAL</td>\n",
       "      <td>POSITIVE</td>\n",
       "      <td>people layed software engineers different depa...</td>\n",
       "      <td>1</td>\n",
       "    </tr>\n",
       "    <tr>\n",
       "      <th>2</th>\n",
       "      <td>train</td>\n",
       "      <td>comment</td>\n",
       "      <td>r/cscareerquestions</td>\n",
       "      <td>wtfnowdoIdo</td>\n",
       "      <td>1/2/2021 0:08</td>\n",
       "      <td>0</td>\n",
       "      <td>&gt; Personally, I switched jobs after 1.5 years ...</td>\n",
       "      <td>personally i switched jobs after years of expe...</td>\n",
       "      <td>POSITIVE</td>\n",
       "      <td>POSITIVE</td>\n",
       "      <td>NEUTRAL</td>\n",
       "      <td>POSITIVE</td>\n",
       "      <td>personally switched jobs years experience key ...</td>\n",
       "      <td>2</td>\n",
       "    </tr>\n",
       "    <tr>\n",
       "      <th>3</th>\n",
       "      <td>train</td>\n",
       "      <td>comment</td>\n",
       "      <td>r/cscareerquestions</td>\n",
       "      <td>nyamuk91</td>\n",
       "      <td>4/28/2020 16:31</td>\n",
       "      <td>6</td>\n",
       "      <td>&gt; PM's don't do performance reviews, that's fo...</td>\n",
       "      <td>pms dont do performance reviews thats for mana...</td>\n",
       "      <td>NEUTRAL</td>\n",
       "      <td>POSITIVE</td>\n",
       "      <td>NEUTRAL</td>\n",
       "      <td>POSITIVE</td>\n",
       "      <td>pms dont performance reviews thats management ...</td>\n",
       "      <td>3</td>\n",
       "    </tr>\n",
       "    <tr>\n",
       "      <th>4</th>\n",
       "      <td>train</td>\n",
       "      <td>comment</td>\n",
       "      <td>r/cscareerquestions</td>\n",
       "      <td>OldSWEThrowaway</td>\n",
       "      <td>7/10/2021 2:19</td>\n",
       "      <td>-1</td>\n",
       "      <td>&gt; pretty hard\\nMore like impossible due to leg...</td>\n",
       "      <td>pretty hard more like impossible due to legal ...</td>\n",
       "      <td>POSITIVE</td>\n",
       "      <td>NEGATIVE</td>\n",
       "      <td>NEGATIVE</td>\n",
       "      <td>NEGATIVE</td>\n",
       "      <td>pretty hard like impossible due legal reasons</td>\n",
       "      <td>4</td>\n",
       "    </tr>\n",
       "  </tbody>\n",
       "</table>\n",
       "</div>"
      ],
      "text/plain": [
       "  dataset category            subreddit           author     created_date  \\\n",
       "0   train  comment  r/cscareerquestions         Linooney   4/30/2020 1:58   \n",
       "1   train  comment  r/cscareerquestions            Dunan   4/30/2020 4:07   \n",
       "2   train  comment  r/cscareerquestions      wtfnowdoIdo    1/2/2021 0:08   \n",
       "3   train  comment  r/cscareerquestions         nyamuk91  4/28/2020 16:31   \n",
       "4   train  comment  r/cscareerquestions  OldSWEThrowaway   7/10/2021 2:19   \n",
       "\n",
       "   score                                               text  \\\n",
       "0     20  > People wait for existing faculty to die to h...   \n",
       "1      1  > People who are being layed off, are they sof...   \n",
       "2      0  > Personally, I switched jobs after 1.5 years ...   \n",
       "3      6  > PM's don't do performance reviews, that's fo...   \n",
       "4     -1  > pretty hard\\nMore like impossible due to leg...   \n",
       "\n",
       "                                          text_clean   label_1   label_2  \\\n",
       "0  people wait for existing faculty to die to hav...  POSITIVE  POSITIVE   \n",
       "1  people who are being layed off are they softwa...  POSITIVE  POSITIVE   \n",
       "2  personally i switched jobs after years of expe...  POSITIVE  POSITIVE   \n",
       "3  pms dont do performance reviews thats for mana...   NEUTRAL  POSITIVE   \n",
       "4  pretty hard more like impossible due to legal ...  POSITIVE  NEGATIVE   \n",
       "\n",
       "    label_3 final_label                                text_clean_stopword  \\\n",
       "0   NEUTRAL    POSITIVE  people wait existing faculty die space hire lm...   \n",
       "1   NEUTRAL    POSITIVE  people layed software engineers different depa...   \n",
       "2   NEUTRAL    POSITIVE  personally switched jobs years experience key ...   \n",
       "3   NEUTRAL    POSITIVE  pms dont performance reviews thats management ...   \n",
       "4  NEGATIVE    NEGATIVE      pretty hard like impossible due legal reasons   \n",
       "\n",
       "   index  \n",
       "0      0  \n",
       "1      1  \n",
       "2      2  \n",
       "3      3  \n",
       "4      4  "
      ]
     },
     "execution_count": 2,
     "metadata": {},
     "output_type": "execute_result"
    }
   ],
   "source": [
    "df = pd.read_csv('reddit_combined_clean_label_split_stopword.csv') \n",
    "df['index'] = list(df.index)\n",
    "df.head()"
   ]
  },
  {
   "cell_type": "code",
   "execution_count": 3,
   "metadata": {},
   "outputs": [],
   "source": [
    "# Split into train, val, test\n",
    "train_df = df[df['dataset'] == 'train']\n",
    "\n",
    "X_train, X_val, y_train, y_val = train_test_split(train_df['text_clean'], \n",
    "                                                  train_df[['final_label', 'index']], \n",
    "                                                  test_size=0.2,\n",
    "                                                  random_state=SEED,\n",
    "                                                  shuffle=True,\n",
    "                                                  stratify=train_df['final_label'])\n",
    "\n",
    "X_test = df[df['dataset'] == 'test']['text_clean']\n",
    "y_test = df[df['dataset'] == 'test'][['final_label', 'index']]"
   ]
  },
  {
   "cell_type": "markdown",
   "metadata": {},
   "source": [
    "### Data Exploration"
   ]
  },
  {
   "cell_type": "code",
   "execution_count": 12,
   "metadata": {},
   "outputs": [
    {
     "data": {
      "text/plain": [
       "<Axes: xlabel='count', ylabel='final_label'>"
      ]
     },
     "execution_count": 12,
     "metadata": {},
     "output_type": "execute_result"
    },
    {
     "data": {
      "image/png": "[encoded data removed]",
      "text/plain": [
       "<Figure size 432x288 with 1 Axes>"
      ]
     },
     "metadata": {
      "needs_background": "light"
     },
     "output_type": "display_data"
    }
   ],
   "source": [
    "# Train data\n",
    "sns.countplot(y=\"final_label\", data=y_train)"
   ]
  },
  {
   "cell_type": "code",
   "execution_count": 13,
   "metadata": {},
   "outputs": [
    {
     "data": {
      "text/plain": [
       "<Axes: xlabel='count', ylabel='final_label'>"
      ]
     },
     "execution_count": 13,
     "metadata": {},
     "output_type": "execute_result"
    },
    {
     "data": {
      "image/png": "[encoded data removed]",
      "text/plain": [
       "<Figure size 432x288 with 1 Axes>"
      ]
     },
     "metadata": {
      "needs_background": "light"
     },
     "output_type": "display_data"
    }
   ],
   "source": [
    "# Validation data\n",
    "sns.countplot(y=\"final_label\", data=y_val)"
   ]
  },
  {
   "cell_type": "code",
   "execution_count": 14,
   "metadata": {},
   "outputs": [
    {
     "data": {
      "text/plain": [
       "<Axes: xlabel='count', ylabel='final_label'>"
      ]
     },
     "execution_count": 14,
     "metadata": {},
     "output_type": "execute_result"
    },
    {
     "data": {
      "image/png": "[encoded data removed]",
      "text/plain": [
       "<Figure size 432x288 with 1 Axes>"
      ]
     },
     "metadata": {
      "needs_background": "light"
     },
     "output_type": "display_data"
    }
   ],
   "source": [
    "# Test data\n",
    "sns.countplot(y=\"final_label\", data=y_test)"
   ]
  },
  {
   "cell_type": "markdown",
   "metadata": {
    "id": "6-FqiFBWGR4g"
   },
   "source": [
    "### BERT"
   ]
  },
  {
   "cell_type": "markdown",
   "metadata": {
    "id": "pzZnYTOON2dE"
   },
   "source": [
    "##### Model Initialization"
   ]
  },
  {
   "cell_type": "code",
   "execution_count": 5,
   "metadata": {
    "id": "9KnS8Q5CN1Te"
   },
   "outputs": [],
   "source": [
    "tfhub_handle_encoder = \"https://tfhub.dev/tensorflow/small_bert/bert_en_uncased_L-4_H-512_A-8/1\"\n",
    "tfhub_handle_preprocess = \"https://tfhub.dev/tensorflow/bert_en_uncased_preprocess/3\""
   ]
  },
  {
   "cell_type": "code",
   "execution_count": 6,
   "metadata": {
    "id": "jVu4YchEOdNt"
   },
   "outputs": [],
   "source": [
    "# Callbacks\n",
    "cb = [tf.keras.callbacks.EarlyStopping(monitor='val_accuracy', patience=3)]"
   ]
  },
  {
   "cell_type": "code",
   "execution_count": 7,
   "metadata": {
    "id": "jT4Ja-uuOWy0"
   },
   "outputs": [],
   "source": [
    "def build_BERT():\n",
    "    \n",
    "    input = tf.keras.layers.Input(shape=(), dtype=tf.string, name='reddit')\n",
    "\n",
    "    preprocess_layer = hub.KerasLayer(tfhub_handle_preprocess, name='preprocessing')\n",
    "    \n",
    "    encoder_inputs = preprocess_layer(input)\n",
    "    encoder = hub.KerasLayer(tfhub_handle_encoder, trainable=True, name='BERT_encoder')\n",
    "    \n",
    "    outputs = encoder(encoder_inputs)\n",
    "    x = outputs['pooled_output']\n",
    "    x = tf.keras.layers.Dropout(0.1)(x)\n",
    "    x = tf.keras.layers.Dense(3, activation='softmax', name='classifier')(x)\n",
    "    \n",
    "    loss = tf.keras.losses.CategoricalCrossentropy(from_logits=True)\n",
    "    metric = tf.metrics.CategoricalAccuracy('accuracy')\n",
    "    optimizer = Adam(learning_rate=5e-05, epsilon=1e-08, clipnorm=1.0)\n",
    "\n",
    "    model = tf.keras.Model(input, x)\n",
    "    model.compile(optimizer=optimizer, loss=loss, metrics=metric)\n",
    "    return model"
   ]
  },
  {
   "cell_type": "code",
   "execution_count": 8,
   "metadata": {
    "colab": {
     "base_uri": "https://localhost:8080/"
    },
    "id": "sFLV7dOWOY1i",
    "outputId": "490c2ddb-8011-4dad-d3cb-7d3793664dcf"
   },
   "outputs": [
    {
     "name": "stdout",
     "output_type": "stream",
     "text": [
      "Model: \"model\"\n",
      "__________________________________________________________________________________________________\n",
      " Layer (type)                   Output Shape         Param #     Connected to                     \n",
      "==================================================================================================\n",
      " reddit (InputLayer)            [(None,)]            0           []                               \n",
      "                                                                                                  \n",
      " preprocessing (KerasLayer)     {'input_type_ids':   0           ['reddit[0][0]']                 \n",
      "                                (None, 128),                                                      \n",
      "                                 'input_word_ids':                                                \n",
      "                                (None, 128),                                                      \n",
      "                                 'input_mask': (Non                                               \n",
      "                                e, 128)}                                                          \n",
      "                                                                                                  \n",
      " BERT_encoder (KerasLayer)      {'encoder_outputs':  28763649    ['preprocessing[0][0]',          \n",
      "                                 [(None, 128, 512),               'preprocessing[0][1]',          \n",
      "                                 (None, 128, 512),                'preprocessing[0][2]']          \n",
      "                                 (None, 128, 512),                                                \n",
      "                                 (None, 128, 512)],                                               \n",
      "                                 'pooled_output': (                                               \n",
      "                                None, 512),                                                       \n",
      "                                 'sequence_output':                                               \n",
      "                                 (None, 128, 512),                                                \n",
      "                                 'default': (None,                                                \n",
      "                                512)}                                                             \n",
      "                                                                                                  \n",
      " dropout (Dropout)              (None, 512)          0           ['BERT_encoder[0][5]']           \n",
      "                                                                                                  \n",
      " classifier (Dense)             (None, 3)            1539        ['dropout[0][0]']                \n",
      "                                                                                                  \n",
      "==================================================================================================\n",
      "Total params: 28,765,188\n",
      "Trainable params: 28,765,187\n",
      "Non-trainable params: 1\n",
      "__________________________________________________________________________________________________\n"
     ]
    }
   ],
   "source": [
    "model = build_BERT()\n",
    "model.summary()"
   ]
  },
  {
   "cell_type": "code",
   "execution_count": 9,
   "metadata": {
    "colab": {
     "base_uri": "https://localhost:8080/"
    },
    "id": "vClANaKpNE35",
    "outputId": "ec7a1450-68ff-4961-d1e0-fd49b9ea7bef",
    "scrolled": true
   },
   "outputs": [
    {
     "name": "stdout",
     "output_type": "stream",
     "text": [
      "Epoch 1/5\n"
     ]
    },
    {
     "name": "stderr",
     "output_type": "stream",
     "text": [
      "/home/UG/luox0018/.conda/envs/patenv/lib/python3.9/site-packages/keras/backend.py:5561: UserWarning: \"`categorical_crossentropy` received `from_logits=True`, but the `output` argument was produced by a Softmax activation and thus does not represent logits. Was this intended?\n",
      "  output, from_logits = _get_logits(\n"
     ]
    },
    {
     "name": "stdout",
     "output_type": "stream",
     "text": [
      "489/489 [==============================] - 2427s 5s/step - loss: 0.7951 - accuracy: 0.6573 - val_loss: 0.6314 - val_accuracy: 0.7454\n",
      "Epoch 2/5\n",
      "489/489 [==============================] - 2076s 4s/step - loss: 0.5847 - accuracy: 0.7628 - val_loss: 0.6160 - val_accuracy: 0.7658\n",
      "Epoch 3/5\n",
      "489/489 [==============================] - 2065s 4s/step - loss: 0.4477 - accuracy: 0.8208 - val_loss: 0.6508 - val_accuracy: 0.7628\n",
      "Epoch 4/5\n",
      "489/489 [==============================] - 2039s 4s/step - loss: 0.3140 - accuracy: 0.8782 - val_loss: 0.7096 - val_accuracy: 0.7623\n",
      "Epoch 5/5\n",
      "489/489 [==============================] - 2035s 4s/step - loss: 0.2250 - accuracy: 0.9128 - val_loss: 0.8481 - val_accuracy: 0.7671\n"
     ]
    },
    {
     "data": {
      "text/plain": [
       "<keras.callbacks.History at 0x2aab280cad90>"
      ]
     },
     "execution_count": 9,
     "metadata": {},
     "output_type": "execute_result"
    }
   ],
   "source": [
    "y_train_c = tf.keras.utils.to_categorical(y_train['final_label'].astype('category').cat.codes.values, \n",
    "                                          num_classes=3)\n",
    "y_val_c = tf.keras.utils.to_categorical(y_val['final_label'].astype('category').cat.codes.values, \n",
    "                                         num_classes=3)\n",
    "\n",
    "model.fit(x=X_train,\n",
    "          y=y_train_c,\n",
    "          validation_data=(X_val, y_val_c),\n",
    "          epochs=5,\n",
    "          callbacks=cb,\n",
    "          verbose=1)"
   ]
  },
  {
   "cell_type": "markdown",
   "metadata": {
    "id": "KFUdH258txda"
   },
   "source": [
    "##### Model on Test data"
   ]
  },
  {
   "cell_type": "code",
   "execution_count": 10,
   "metadata": {
    "id": "ZFyg__YCuEZf"
   },
   "outputs": [],
   "source": [
    "y_train_c = tf.keras.utils.to_categorical(y_train['final_label'].astype('category').cat.codes.values, \n",
    "                                          num_classes=3)\n",
    "y_test_c = tf.keras.utils.to_categorical(y_test['final_label'].astype('category').cat.codes.values, \n",
    "                                         num_classes=3)"
   ]
  },
  {
   "cell_type": "code",
   "execution_count": 11,
   "metadata": {
    "colab": {
     "base_uri": "https://localhost:8080/"
    },
    "id": "O57PPmAdtwPE",
    "outputId": "9a81a237-ec81-41f4-c5fd-1f37ee8188b7"
   },
   "outputs": [
    {
     "name": "stdout",
     "output_type": "stream",
     "text": [
      "Epoch 1/5\n",
      "489/489 [==============================] - 1937s 4s/step - loss: 0.1580 - accuracy: 0.9395 - val_loss: 1.1963 - val_accuracy: 0.7210\n",
      "Epoch 2/5\n",
      "489/489 [==============================] - 1958s 4s/step - loss: 0.1163 - accuracy: 0.9575 - val_loss: 1.2697 - val_accuracy: 0.7340\n",
      "Epoch 3/5\n",
      "489/489 [==============================] - 1952s 4s/step - loss: 0.0916 - accuracy: 0.9670 - val_loss: 1.3895 - val_accuracy: 0.7110\n",
      "Epoch 4/5\n",
      "489/489 [==============================] - 1942s 4s/step - loss: 0.0719 - accuracy: 0.9748 - val_loss: 1.5394 - val_accuracy: 0.7260\n",
      "Epoch 5/5\n",
      "489/489 [==============================] - 1881s 4s/step - loss: 0.0641 - accuracy: 0.9772 - val_loss: 1.4184 - val_accuracy: 0.7380\n"
     ]
    },
    {
     "data": {
      "text/plain": [
       "<keras.callbacks.History at 0x2aabd4ccb250>"
      ]
     },
     "execution_count": 11,
     "metadata": {},
     "output_type": "execute_result"
    }
   ],
   "source": [
    "model.fit(x=X_train,\n",
    "          y=y_train_c,\n",
    "          validation_data=(X_test, y_test_c),\n",
    "          epochs=5,\n",
    "          callbacks=cb,\n",
    "          verbose=1)"
   ]
  },
  {
   "cell_type": "code",
   "execution_count": 18,
   "metadata": {
    "colab": {
     "base_uri": "https://localhost:8080/",
     "height": 312
    },
    "id": "1e2n4oWKtwRh",
    "outputId": "255dc530-1b04-4471-b018-3bd0e2cd0f2c"
   },
   "outputs": [
    {
     "name": "stdout",
     "output_type": "stream",
     "text": [
      "32/32 [==============================] - 33s 1s/step\n"
     ]
    }
   ],
   "source": [
    "y_pred = model.predict(X_test)"
   ]
  },
  {
   "cell_type": "code",
   "execution_count": 21,
   "metadata": {},
   "outputs": [
    {
     "data": {
      "text/plain": [
       "array([1, 0, 1, 2, 2, 2, 2, 0, 2, 1, 1, 0, 1, 0, 0, 1, 2, 0, 0, 0, 0, 0,\n",
       "       0, 2, 1, 0, 2, 2, 0, 1, 2, 2, 2, 2, 2, 2, 2, 2, 0, 0, 0, 0, 0, 1,\n",
       "       2, 2, 1, 0, 2, 2, 2, 1, 0, 0, 0, 0, 0, 1, 0, 0, 2, 2, 2, 2, 0, 0,\n",
       "       0, 0, 2, 0, 2, 1, 2, 1, 1, 0, 0, 1, 0, 2, 0, 0, 0, 0, 2, 2, 0, 2,\n",
       "       0, 0, 1, 0, 0, 0, 1, 1, 2, 0, 0, 1, 0, 2, 0, 0, 0, 1, 2, 2, 0, 0,\n",
       "       0, 0, 0, 2, 0, 0, 0, 0, 0, 2, 0, 0, 2, 2, 0, 0, 0, 1, 2, 2, 2, 2,\n",
       "       0, 0, 0, 1, 2, 2, 1, 0, 2, 2, 0, 2, 1, 1, 0, 0, 0, 0, 0, 2, 0, 1,\n",
       "       2, 2, 0, 2, 2, 1, 2, 0, 2, 0, 1, 1, 1, 0, 0, 0, 1, 2, 0, 1, 0, 0,\n",
       "       1, 1, 1, 0, 0, 0, 0, 2, 2, 0, 2, 1, 0, 1, 1, 2, 1, 1, 0, 2, 0, 2,\n",
       "       0, 2, 2, 0, 2, 0, 0, 0, 0, 1, 0, 0, 0, 2, 0, 0, 2, 2, 1, 0, 1, 2,\n",
       "       0, 1, 0, 0, 1, 0, 0, 2, 1, 2, 2, 2, 0, 1, 0, 2, 1, 1, 1, 2, 0, 0,\n",
       "       2, 2, 0, 0, 1, 1, 1, 0, 1, 1, 2, 2, 0, 1, 1, 0, 1, 0, 0, 2, 2, 0,\n",
       "       2, 2, 0, 0, 1, 2, 0, 0, 2, 0, 0, 1, 1, 0, 2, 1, 2, 2, 0, 2, 1, 1,\n",
       "       0, 0, 2, 1, 2, 1, 0, 1, 0, 0, 1, 0, 2, 0, 0, 2, 2, 0, 2, 2, 0, 0,\n",
       "       2, 1, 2, 2, 0, 0, 0, 0, 2, 0, 0, 0, 0, 2, 2, 1, 2, 0, 2, 2, 2, 2,\n",
       "       2, 0, 2, 0, 2, 2, 2, 0, 0, 0, 0, 2, 1, 2, 2, 2, 0, 2, 1, 1, 0, 0,\n",
       "       2, 2, 2, 0, 0, 1, 0, 2, 1, 2, 0, 0, 2, 0, 2, 2, 2, 0, 0, 2, 0, 0,\n",
       "       0, 0, 2, 0, 0, 0, 2, 0, 1, 0, 2, 2, 1, 2, 0, 0, 2, 2, 1, 0, 0, 0,\n",
       "       1, 2, 2, 0, 0, 1, 2, 0, 0, 0, 2, 2, 0, 0, 0, 2, 2, 0, 2, 0, 0, 2,\n",
       "       0, 1, 0, 2, 2, 2, 2, 2, 2, 0, 1, 2, 2, 0, 0, 0, 1, 0, 1, 2, 0, 2,\n",
       "       0, 2, 0, 0, 0, 2, 0, 2, 2, 2, 2, 2, 0, 2, 0, 2, 2, 2, 0, 2, 1, 0,\n",
       "       0, 2, 2, 2, 2, 0, 2, 2, 2, 0, 2, 2, 2, 0, 0, 0, 2, 1, 2, 2, 2, 0,\n",
       "       0, 1, 0, 1, 2, 2, 0, 2, 2, 0, 2, 2, 1, 0, 1, 2, 1, 2, 0, 0, 0, 0,\n",
       "       0, 0, 2, 2, 0, 2, 2, 1, 0, 0, 0, 2, 0, 2, 2, 2, 0, 2, 0, 0, 2, 2,\n",
       "       0, 2, 0, 1, 2, 1, 0, 2, 2, 0, 2, 2, 2, 0, 0, 0, 0, 2, 2, 0, 2, 0,\n",
       "       1, 2, 0, 2, 2, 2, 1, 2, 0, 0, 0, 0, 0, 1, 2, 2, 2, 0, 2, 2, 0, 2,\n",
       "       2, 1, 0, 0, 0, 2, 0, 1, 0, 2, 2, 2, 2, 0, 1, 1, 2, 2, 0, 2, 0, 0,\n",
       "       2, 0, 1, 1, 2, 2, 0, 2, 0, 0, 0, 1, 0, 1, 0, 0, 0, 0, 0, 0, 0, 0,\n",
       "       0, 0, 0, 0, 0, 0, 0, 0, 0, 1, 0, 0, 0, 0, 1, 0, 1, 0, 0, 0, 0, 0,\n",
       "       0, 0, 1, 0, 2, 0, 0, 0, 0, 0, 0, 0, 0, 2, 1, 0, 0, 1, 0, 0, 0, 0,\n",
       "       0, 0, 0, 0, 0, 0, 2, 0, 0, 0, 0, 0, 0, 0, 1, 0, 0, 1, 0, 0, 0, 0,\n",
       "       1, 0, 0, 0, 0, 0, 0, 0, 0, 0, 1, 0, 0, 2, 0, 0, 0, 2, 0, 0, 0, 2,\n",
       "       1, 0, 0, 1, 0, 0, 0, 0, 0, 2, 1, 0, 0, 2, 1, 0, 2, 2, 1, 0, 0, 1,\n",
       "       0, 2, 0, 0, 0, 0, 0, 0, 0, 1, 0, 0, 2, 0, 0, 0, 0, 2, 0, 0, 0, 0,\n",
       "       0, 0, 0, 0, 0, 0, 2, 0, 0, 0, 0, 0, 0, 1, 0, 0, 1, 0, 0, 2, 2, 0,\n",
       "       1, 0, 0, 0, 1, 2, 0, 0, 0, 0, 0, 0, 0, 0, 0, 0, 2, 0, 0, 2, 0, 0,\n",
       "       0, 0, 0, 0, 0, 0, 1, 1, 0, 1, 0, 0, 0, 0, 0, 1, 0, 0, 0, 1, 1, 1,\n",
       "       2, 1, 0, 2, 0, 1, 2, 0, 1, 0, 0, 0, 0, 0, 0, 0, 0, 0, 0, 0, 0, 0,\n",
       "       0, 0, 0, 0, 0, 0, 0, 0, 1, 2, 0, 0, 0, 2, 0, 0, 1, 0, 0, 0, 0, 0,\n",
       "       0, 0, 0, 0, 0, 0, 0, 0, 0, 2, 1, 0, 2, 0, 0, 0, 0, 0, 0, 0, 0, 0,\n",
       "       2, 0, 0, 0, 0, 0, 0, 1, 2, 0, 1, 0, 0, 0, 0, 2, 0, 0, 0, 0, 2, 2,\n",
       "       0, 0, 1, 0, 2, 0, 2, 2, 0, 2, 2, 2, 2, 2, 2, 0, 1, 2, 0, 0, 1, 0,\n",
       "       2, 2, 0, 0, 0, 0, 2, 2, 2, 2, 0, 2, 1, 2, 2, 0, 2, 2, 2, 2, 1, 0,\n",
       "       0, 0, 0, 2, 2, 2, 0, 0, 2, 2, 0, 2, 2, 2, 2, 1, 2, 2, 2, 1, 1, 2,\n",
       "       2, 2, 0, 0, 2, 0, 2, 1, 2, 2, 2, 2, 0, 0, 1, 0, 1, 2, 0, 0, 0, 1,\n",
       "       0, 2, 0, 1, 0, 2, 0, 2, 0, 0])"
      ]
     },
     "execution_count": 21,
     "metadata": {},
     "output_type": "execute_result"
    }
   ],
   "source": [
    "# Convert the predicted labels back to their original text labels\n",
    "predicted_labels = np.array([np.argmax(row) for row in y_pred])\n",
    "predicted_labels"
   ]
  },
  {
   "cell_type": "code",
   "execution_count": 25,
   "metadata": {},
   "outputs": [],
   "source": [
    "temp = pd.DataFrame(predicted_labels)\n",
    "temp.to_csv('findings_BERT.csv')"
   ]
  },
  {
   "cell_type": "code",
   "execution_count": 26,
   "metadata": {},
   "outputs": [
    {
     "data": {
      "text/html": [
       "<div>\n",
       "<style scoped>\n",
       "    .dataframe tbody tr th:only-of-type {\n",
       "        vertical-align: middle;\n",
       "    }\n",
       "\n",
       "    .dataframe tbody tr th {\n",
       "        vertical-align: top;\n",
       "    }\n",
       "\n",
       "    .dataframe thead th {\n",
       "        text-align: right;\n",
       "    }\n",
       "</style>\n",
       "<table border=\"1\" class=\"dataframe\">\n",
       "  <thead>\n",
       "    <tr style=\"text-align: right;\">\n",
       "      <th></th>\n",
       "      <th>0</th>\n",
       "    </tr>\n",
       "  </thead>\n",
       "  <tbody>\n",
       "    <tr>\n",
       "      <th>0</th>\n",
       "      <td>1</td>\n",
       "    </tr>\n",
       "    <tr>\n",
       "      <th>1</th>\n",
       "      <td>0</td>\n",
       "    </tr>\n",
       "    <tr>\n",
       "      <th>2</th>\n",
       "      <td>1</td>\n",
       "    </tr>\n",
       "    <tr>\n",
       "      <th>3</th>\n",
       "      <td>2</td>\n",
       "    </tr>\n",
       "    <tr>\n",
       "      <th>4</th>\n",
       "      <td>2</td>\n",
       "    </tr>\n",
       "  </tbody>\n",
       "</table>\n",
       "</div>"
      ],
      "text/plain": [
       "   0\n",
       "0  1\n",
       "1  0\n",
       "2  1\n",
       "3  2\n",
       "4  2"
      ]
     },
     "execution_count": 26,
     "metadata": {},
     "output_type": "execute_result"
    }
   ],
   "source": [
    "temp.head()"
   ]
  },
  {
   "cell_type": "code",
   "execution_count": null,
   "metadata": {},
   "outputs": [],
   "source": []
  }
 ],
 "metadata": {
  "accelerator": "GPU",
  "colab": {
   "collapsed_sections": [],
   "provenance": [],
   "toc_visible": true
  },
  "gpuClass": "standard",
  "kernelspec": {
   "display_name": "Python 3 (ipykernel)",
   "language": "python",
   "name": "python3"
  },
  "language_info": {
   "codemirror_mode": {
    "name": "ipython",
    "version": 3
   },
   "file_extension": ".py",
   "mimetype": "text/x-python",
   "name": "python",
   "nbconvert_exporter": "python",
   "pygments_lexer": "ipython3",
   "version": "3.9.7"
  }
 },
 "nbformat": 4,
 "nbformat_minor": 1
}
