{
 "cells": [
  {
   "cell_type": "markdown",
   "id": "b97a6ded",
   "metadata": {},
   "source": [
    "# Classification"
   ]
  },
  {
   "cell_type": "markdown",
   "id": "8d0ace21",
   "metadata": {},
   "source": [
    "### Import Packages"
   ]
  },
  {
   "cell_type": "code",
   "execution_count": 1,
   "id": "dedfd664",
   "metadata": {},
   "outputs": [
    {
     "name": "stderr",
     "output_type": "stream",
     "text": [
      "[nltk_data] Downloading package punkt to\n",
      "[nltk_data]     C:\\Users\\xiaoy\\AppData\\Roaming\\nltk_data...\n",
      "[nltk_data]   Package punkt is already up-to-date!\n",
      "[nltk_data] Downloading package stopwords to\n",
      "[nltk_data]     C:\\Users\\xiaoy\\AppData\\Roaming\\nltk_data...\n",
      "[nltk_data]   Package stopwords is already up-to-date!\n",
      "[nltk_data] Downloading package wordnet to\n",
      "[nltk_data]     C:\\Users\\xiaoy\\AppData\\Roaming\\nltk_data...\n",
      "[nltk_data]   Package wordnet is already up-to-date!\n",
      "[nltk_data] Downloading package omw-1.4 to\n",
      "[nltk_data]     C:\\Users\\xiaoy\\AppData\\Roaming\\nltk_data...\n",
      "[nltk_data]   Package omw-1.4 is already up-to-date!\n"
     ]
    }
   ],
   "source": [
    "import pandas as pd\n",
    "import matplotlib.pyplot as plt\n",
    "import seaborn as sns\n",
    "import numpy as np\n",
    "\n",
    "import nltk\n",
    "from nltk.tokenize import word_tokenize  \n",
    "from nltk.corpus import stopwords\n",
    "from nltk.stem import WordNetLemmatizer\n",
    "from nltk.stem.snowball import SnowballStemmer\n",
    "from nltk.stem.porter import *\n",
    "\n",
    "from sklearn.model_selection import train_test_split\n",
    "from sklearn.utils import shuffle\n",
    "from sklearn.metrics import accuracy_score\n",
    "from sklearn.metrics import f1_score\n",
    "from sklearn.metrics import classification_report, confusion_matrix\n",
    "from sklearn.feature_extraction.text import TfidfVectorizer\n",
    "from sklearn.svm import SVC  \n",
    "from sklearn.model_selection import GridSearchCV\n",
    "from sklearn.naive_bayes import MultinomialNB\n",
    "from sklearn.linear_model import LogisticRegression\n",
    "from sklearn.preprocessing import LabelEncoder\n",
    "from sklearn.ensemble import StackingClassifier\n",
    "\n",
    "from bayes_opt import BayesianOptimization\n",
    "from tqdm import tqdm\n",
    "from xgboost import XGBClassifier\n",
    "\n",
    "# initialize PorterStemmer\n",
    "p_stemmer = PorterStemmer()\n",
    "\n",
    "# Set seed for RNG\n",
    "SEED = 12\n",
    "\n",
    "nltk.download('punkt')\n",
    "nltk.download('stopwords')\n",
    "nltk.download('wordnet')\n",
    "nltk.download('omw-1.4')\n",
    "\n",
    "import warnings\n",
    "warnings.filterwarnings('ignore')"
   ]
  },
  {
   "cell_type": "markdown",
   "id": "bfbdeee4",
   "metadata": {},
   "source": [
    "### Loading Dataset"
   ]
  },
  {
   "cell_type": "code",
   "execution_count": 2,
   "id": "79308892",
   "metadata": {},
   "outputs": [
    {
     "data": {
      "text/html": [
       "<div>\n",
       "<style scoped>\n",
       "    .dataframe tbody tr th:only-of-type {\n",
       "        vertical-align: middle;\n",
       "    }\n",
       "\n",
       "    .dataframe tbody tr th {\n",
       "        vertical-align: top;\n",
       "    }\n",
       "\n",
       "    .dataframe thead th {\n",
       "        text-align: right;\n",
       "    }\n",
       "</style>\n",
       "<table border=\"1\" class=\"dataframe\">\n",
       "  <thead>\n",
       "    <tr style=\"text-align: right;\">\n",
       "      <th></th>\n",
       "      <th>dataset</th>\n",
       "      <th>category</th>\n",
       "      <th>subreddit</th>\n",
       "      <th>author</th>\n",
       "      <th>created_date</th>\n",
       "      <th>score</th>\n",
       "      <th>text</th>\n",
       "      <th>text_clean</th>\n",
       "      <th>label_1</th>\n",
       "      <th>label_2</th>\n",
       "      <th>label_3</th>\n",
       "      <th>final_label</th>\n",
       "      <th>index</th>\n",
       "    </tr>\n",
       "  </thead>\n",
       "  <tbody>\n",
       "    <tr>\n",
       "      <th>0</th>\n",
       "      <td>train</td>\n",
       "      <td>comment</td>\n",
       "      <td>r/cscareerquestions</td>\n",
       "      <td>Linooney</td>\n",
       "      <td>4/30/2020 1:58</td>\n",
       "      <td>20</td>\n",
       "      <td>&gt; People wait for existing faculty to die to h...</td>\n",
       "      <td>people wait for existing faculty to die to hav...</td>\n",
       "      <td>POSITIVE</td>\n",
       "      <td>POSITIVE</td>\n",
       "      <td>NEUTRAL</td>\n",
       "      <td>POSITIVE</td>\n",
       "      <td>0</td>\n",
       "    </tr>\n",
       "    <tr>\n",
       "      <th>1</th>\n",
       "      <td>train</td>\n",
       "      <td>comment</td>\n",
       "      <td>r/cscareerquestions</td>\n",
       "      <td>Dunan</td>\n",
       "      <td>4/30/2020 4:07</td>\n",
       "      <td>1</td>\n",
       "      <td>&gt; People who are being layed off, are they sof...</td>\n",
       "      <td>people who are being layed off are they softwa...</td>\n",
       "      <td>POSITIVE</td>\n",
       "      <td>POSITIVE</td>\n",
       "      <td>NEUTRAL</td>\n",
       "      <td>POSITIVE</td>\n",
       "      <td>1</td>\n",
       "    </tr>\n",
       "    <tr>\n",
       "      <th>2</th>\n",
       "      <td>train</td>\n",
       "      <td>comment</td>\n",
       "      <td>r/cscareerquestions</td>\n",
       "      <td>wtfnowdoIdo</td>\n",
       "      <td>1/2/2021 0:08</td>\n",
       "      <td>0</td>\n",
       "      <td>&gt; Personally, I switched jobs after 1.5 years ...</td>\n",
       "      <td>personally i switched jobs after years of expe...</td>\n",
       "      <td>POSITIVE</td>\n",
       "      <td>POSITIVE</td>\n",
       "      <td>NEUTRAL</td>\n",
       "      <td>POSITIVE</td>\n",
       "      <td>2</td>\n",
       "    </tr>\n",
       "    <tr>\n",
       "      <th>3</th>\n",
       "      <td>train</td>\n",
       "      <td>comment</td>\n",
       "      <td>r/cscareerquestions</td>\n",
       "      <td>nyamuk91</td>\n",
       "      <td>4/28/2020 16:31</td>\n",
       "      <td>6</td>\n",
       "      <td>&gt; PM's don't do performance reviews, that's fo...</td>\n",
       "      <td>pms dont do performance reviews thats for mana...</td>\n",
       "      <td>NEUTRAL</td>\n",
       "      <td>POSITIVE</td>\n",
       "      <td>NEUTRAL</td>\n",
       "      <td>POSITIVE</td>\n",
       "      <td>3</td>\n",
       "    </tr>\n",
       "    <tr>\n",
       "      <th>4</th>\n",
       "      <td>train</td>\n",
       "      <td>comment</td>\n",
       "      <td>r/cscareerquestions</td>\n",
       "      <td>OldSWEThrowaway</td>\n",
       "      <td>7/10/2021 2:19</td>\n",
       "      <td>-1</td>\n",
       "      <td>&gt; pretty hard\\nMore like impossible due to leg...</td>\n",
       "      <td>pretty hard more like impossible due to legal ...</td>\n",
       "      <td>POSITIVE</td>\n",
       "      <td>NEGATIVE</td>\n",
       "      <td>NEGATIVE</td>\n",
       "      <td>NEGATIVE</td>\n",
       "      <td>4</td>\n",
       "    </tr>\n",
       "  </tbody>\n",
       "</table>\n",
       "</div>"
      ],
      "text/plain": [
       "  dataset category            subreddit           author     created_date  \\\n",
       "0   train  comment  r/cscareerquestions         Linooney   4/30/2020 1:58   \n",
       "1   train  comment  r/cscareerquestions            Dunan   4/30/2020 4:07   \n",
       "2   train  comment  r/cscareerquestions      wtfnowdoIdo    1/2/2021 0:08   \n",
       "3   train  comment  r/cscareerquestions         nyamuk91  4/28/2020 16:31   \n",
       "4   train  comment  r/cscareerquestions  OldSWEThrowaway   7/10/2021 2:19   \n",
       "\n",
       "   score                                               text  \\\n",
       "0     20  > People wait for existing faculty to die to h...   \n",
       "1      1  > People who are being layed off, are they sof...   \n",
       "2      0  > Personally, I switched jobs after 1.5 years ...   \n",
       "3      6  > PM's don't do performance reviews, that's fo...   \n",
       "4     -1  > pretty hard\\nMore like impossible due to leg...   \n",
       "\n",
       "                                          text_clean   label_1   label_2  \\\n",
       "0  people wait for existing faculty to die to hav...  POSITIVE  POSITIVE   \n",
       "1  people who are being layed off are they softwa...  POSITIVE  POSITIVE   \n",
       "2  personally i switched jobs after years of expe...  POSITIVE  POSITIVE   \n",
       "3  pms dont do performance reviews thats for mana...   NEUTRAL  POSITIVE   \n",
       "4  pretty hard more like impossible due to legal ...  POSITIVE  NEGATIVE   \n",
       "\n",
       "    label_3 final_label  index  \n",
       "0   NEUTRAL    POSITIVE      0  \n",
       "1   NEUTRAL    POSITIVE      1  \n",
       "2   NEUTRAL    POSITIVE      2  \n",
       "3   NEUTRAL    POSITIVE      3  \n",
       "4  NEGATIVE    NEGATIVE      4  "
      ]
     },
     "execution_count": 2,
     "metadata": {},
     "output_type": "execute_result"
    }
   ],
   "source": [
    "df = pd.read_csv('reddit_combined_clean_label_split.csv') \n",
    "df['index'] = list(df.index)\n",
    "df.head()"
   ]
  },
  {
   "cell_type": "markdown",
   "id": "2dc72c1c",
   "metadata": {},
   "source": [
    "Inter-annotator agreement for dataset."
   ]
  },
  {
   "cell_type": "code",
   "execution_count": 3,
   "id": "ab2037cd",
   "metadata": {},
   "outputs": [
    {
     "name": "stdout",
     "output_type": "stream",
     "text": [
      "Inter-annotator agreement is 90.54382722054675%.\n"
     ]
    }
   ],
   "source": [
    "no_disagreements = len(df[((df['label_1'] != df['label_2']) & \n",
    "                        (df['label_2'] != df['label_3']) &\n",
    "                        (df['label_3'] != df['label_1'])\n",
    "                       )])\n",
    "\n",
    "print(\"Inter-annotator agreement is {}%.\".format((len(df) - no_disagreements)/len(df)*100))"
   ]
  },
  {
   "cell_type": "markdown",
   "id": "739a3bd1",
   "metadata": {},
   "source": [
    "General function to display sentiment and sentence length distribution."
   ]
  },
  {
   "cell_type": "code",
   "execution_count": 4,
   "id": "ccc424fa",
   "metadata": {},
   "outputs": [],
   "source": [
    "def show_distribution(label, text, name=\"\"):\n",
    "    plt.figure(figsize=(18,6))\n",
    "\n",
    "    # Bar graph visualisation of sentiment distribution\n",
    "    plt.subplot(1,2,1)\n",
    "    sns.countplot(x=label)\n",
    "    plt.xlabel(\"Sentiment\")\n",
    "    plt.ylabel(\"Count\")\n",
    "    plt.title(\"Sentiments Distribution in \" + name + \" Dataset\")\n",
    "\n",
    "    # Bar graph visualisation of sentence length distribution\n",
    "    plt.subplot(1,2,2)\n",
    "    sns.histplot([len(s) for s in text])\n",
    "    plt.xlabel(\"Sentence Length\")\n",
    "    plt.ylabel(\"Count\")\n",
    "    plt.title(\"Sentence Length Distribution in \" + name + \" Dataset\")"
   ]
  },
  {
   "cell_type": "code",
   "execution_count": 5,
   "id": "8bb6bdfc",
   "metadata": {},
   "outputs": [
    {
     "data": {
      "image/png": "[encoded data removed]",
      "text/plain": [
       "<Figure size 1296x432 with 2 Axes>"
      ]
     },
     "metadata": {
      "needs_background": "light"
     },
     "output_type": "display_data"
    }
   ],
   "source": [
    "show_distribution(df['final_label'], df['text_clean'], \"Overall\")"
   ]
  },
  {
   "cell_type": "markdown",
   "id": "68a8e0fc",
   "metadata": {},
   "source": [
    "### Text Normalization"
   ]
  },
  {
   "cell_type": "code",
   "execution_count": 6,
   "id": "f2c9eafd",
   "metadata": {},
   "outputs": [],
   "source": [
    "# Tokenization\n",
    "def tokenize(text):\n",
    "    return word_tokenize(text)\n",
    "\n",
    "# Removal of Stopwords\n",
    "def remove_stopword(text):\n",
    "    nltk_tokenList = tokenize(text)\n",
    "\n",
    "    filtered_sentence = []\n",
    "    nltk_stop_words = set(stopwords.words(\"english\"))\n",
    "    for w in nltk_tokenList:  \n",
    "        if w not in nltk_stop_words:  \n",
    "            filtered_sentence.append(w)\n",
    "    \n",
    "    return ' '.join(filtered_sentence)\n",
    "\n",
    "# Stemming\n",
    "def stemming(token_list):\n",
    "    stemmed_list = []\n",
    "    for word in token_list:\n",
    "        stemmed_list.append(p_stemmer.stem(word))\n",
    "\n",
    "    return stemmed_list\n",
    "\n",
    "# Lemmatization\n",
    "def lemmatization(stemmed_list):\n",
    "    wordnet_lemmatizer = WordNetLemmatizer()\n",
    "    lemma_list = []\n",
    "    for word in stemmed_list:\n",
    "        lemma_list.append(wordnet_lemmatizer.lemmatize(word))\n",
    "\n",
    "    return lemma_list\n",
    "\n",
    "# Combination of stemming and lemmatization\n",
    "def nltk_process(text):\n",
    "    nltk_tokenList = tokenize(text)\n",
    "    nltk_stemmedList = stemming(nltk_tokenList)\n",
    "    nltk_lemmaList = lemmatization(nltk_stemmedList)\n",
    "\n",
    "    return ' '.join(nltk_tokenList)"
   ]
  },
  {
   "cell_type": "code",
   "execution_count": 7,
   "id": "2f182168",
   "metadata": {},
   "outputs": [],
   "source": [
    "def normalize_df(df):    \n",
    "    df['no_stopword_text_clean'] = df['text_clean'].apply(remove_stopword)\n",
    "    df['normalize_text_clean'] = df['no_stopword_text_clean'].apply(nltk_process)\n",
    "\n",
    "    # New dataframe of text normalized tweets\n",
    "    columns_titles = ['dataset', 'normalize_text_clean', 'final_label', 'index']\n",
    "    return df.reindex(columns=columns_titles)\n",
    "\n",
    "norm_df = normalize_df(df)"
   ]
  },
  {
   "cell_type": "markdown",
   "id": "bc0f771c",
   "metadata": {},
   "source": [
    "### Split into train and test datasets"
   ]
  },
  {
   "cell_type": "code",
   "execution_count": 8,
   "id": "8fd5aad2",
   "metadata": {},
   "outputs": [],
   "source": [
    "X_train = norm_df[norm_df['dataset'] == 'train']['normalize_text_clean']\n",
    "X_test = norm_df[norm_df['dataset'] == 'test']['normalize_text_clean']\n",
    "\n",
    "X_train.drop(columns=['dataset'], inplace=True)\n",
    "X_test.drop(columns=['dataset'], inplace=True)\n",
    "\n",
    "y_train = norm_df[norm_df['dataset'] == 'train'][['final_label', 'index']]\n",
    "y_test = norm_df[norm_df['dataset'] == 'test'][['final_label', 'index']]"
   ]
  },
  {
   "cell_type": "code",
   "execution_count": 9,
   "id": "c13ee537",
   "metadata": {},
   "outputs": [
    {
     "data": {
      "image/png": "[encoded data removed]",
      "text/plain": [
       "<Figure size 1296x432 with 2 Axes>"
      ]
     },
     "metadata": {
      "needs_background": "light"
     },
     "output_type": "display_data"
    }
   ],
   "source": [
    "show_distribution(y_train['final_label'], X_train, \"Train\")"
   ]
  },
  {
   "cell_type": "code",
   "execution_count": 10,
   "id": "b5bfee01",
   "metadata": {},
   "outputs": [
    {
     "data": {
      "image/png": "[encoded data removed]",
      "text/plain": [
       "<Figure size 1296x432 with 2 Axes>"
      ]
     },
     "metadata": {
      "needs_background": "light"
     },
     "output_type": "display_data"
    }
   ],
   "source": [
    "show_distribution(y_test['final_label'], X_test, \"Test\")"
   ]
  },
  {
   "cell_type": "markdown",
   "id": "c032e05e",
   "metadata": {},
   "source": [
    "### Model Helpers"
   ]
  },
  {
   "cell_type": "markdown",
   "id": "4f6c4d53",
   "metadata": {},
   "source": [
    "#### Logs\n",
    "\n",
    "Storing results for comparision."
   ]
  },
  {
   "cell_type": "code",
   "execution_count": 11,
   "id": "947ac7ce",
   "metadata": {},
   "outputs": [],
   "source": [
    "logs = {'models': {}, 'metrics': {}}\n",
    "logs['models']['X_test'] = list(X_test)\n",
    "logs['models']['y_test'] = list(y_test['final_label'])\n",
    "logs['models']['index'] = list(y_test['index'])\n",
    "\n",
    "# Remove index since we already stored\n",
    "y_train = y_train['final_label']\n",
    "y_test = y_test['final_label']"
   ]
  },
  {
   "cell_type": "markdown",
   "id": "0af3befc",
   "metadata": {},
   "source": [
    "#### Vectorizers\n",
    "\n",
    "TF-IDF Vectorizer"
   ]
  },
  {
   "cell_type": "code",
   "execution_count": 12,
   "id": "e026a341",
   "metadata": {},
   "outputs": [
    {
     "data": {
      "text/plain": [
       "TfidfVectorizer(max_df=0.7, max_features=2000, min_df=5)"
      ]
     },
     "execution_count": 12,
     "metadata": {},
     "output_type": "execute_result"
    }
   ],
   "source": [
    "tfidf_vec = TfidfVectorizer(max_features=2000, min_df=5, max_df=0.7)  \n",
    "tfidf_vec.fit(X_train)"
   ]
  },
  {
   "cell_type": "code",
   "execution_count": 13,
   "id": "b899c008",
   "metadata": {},
   "outputs": [],
   "source": [
    "X_train_dtm = tfidf_vec.transform(X_train)\n",
    "X_test_dtm = tfidf_vec.transform(X_test)"
   ]
  },
  {
   "cell_type": "markdown",
   "id": "ac2e49dc",
   "metadata": {},
   "source": [
    "#### Plots\n",
    "\n",
    "General function for plotting accuracy and F1 metrics"
   ]
  },
  {
   "cell_type": "code",
   "execution_count": 14,
   "id": "537c13b7",
   "metadata": {},
   "outputs": [],
   "source": [
    "def plot_metrics(rng, accuracy, f1s, cmp): \n",
    "    start, end, step = rng[0], rng[1], 1\n",
    "    if len(rng) == 3:\n",
    "        step = rng[2]\n",
    "\n",
    "    plt.figure(figsize=(12, 6))\n",
    "\n",
    "    # Plot accuracy dashed line\n",
    "    plt.plot(range(start, end, step), accuracy, color='green', \n",
    "            linestyle='dashed', marker='o',\n",
    "            markerfacecolor='green', markersize=10)\n",
    "    # Plot f1 values dashed line\n",
    "    plt.plot(range(start, end, step), f1s, color='blue', \n",
    "            linestyle='dashed', marker='o',\n",
    "            markerfacecolor='blue', markersize=10)\n",
    "            \n",
    "    plt.title('Accuracy & F1 Score vs ' + cmp)\n",
    "    plt.xlabel(cmp)\n",
    "    plt.legend(['Accuracy', 'F1 Score'], loc='upper right')"
   ]
  },
  {
   "cell_type": "markdown",
   "id": "b5226e98",
   "metadata": {},
   "source": [
    "General function for showing evaluation metrics."
   ]
  },
  {
   "cell_type": "code",
   "execution_count": 15,
   "id": "37fe03ef",
   "metadata": {},
   "outputs": [],
   "source": [
    "def show_metrics(y_test, y_pred):\n",
    "\n",
    "    # Adding classes names for interpretation\n",
    "    classes_names = ['NEGATIVE', 'NEUTRAL', 'POSITIVE']\n",
    "    cm = pd.DataFrame(confusion_matrix(y_test, y_pred), \n",
    "                      columns=classes_names, index=classes_names)\n",
    "                      \n",
    "    # Visualize confusion matrix\n",
    "    sns.heatmap(cm, annot=True, fmt='d');\n",
    "\n",
    "    # Print classification report\n",
    "    print(classification_report(y_test, y_pred))"
   ]
  },
  {
   "cell_type": "markdown",
   "id": "650b521b",
   "metadata": {},
   "source": [
    "### Traditional Machine Learning"
   ]
  },
  {
   "cell_type": "markdown",
   "id": "b1cf8af7",
   "metadata": {},
   "source": [
    "#### Naive Bayes Classifier"
   ]
  },
  {
   "cell_type": "code",
   "execution_count": 16,
   "id": "3d68de68",
   "metadata": {},
   "outputs": [
    {
     "data": {
      "text/plain": [
       "GridSearchCV(cv=10, estimator=MultinomialNB(),\n",
       "             param_grid={'alpha': [1e-05, 0.0001, 0.001, 0.1, 1]},\n",
       "             return_train_score=True)"
      ]
     },
     "execution_count": 16,
     "metadata": {},
     "output_type": "execute_result"
    }
   ],
   "source": [
    "model = MultinomialNB()\n",
    "model.fit(X_train_dtm, y_train)\n",
    "\n",
    "# Hyperparameter tuning with GridSearch\n",
    "param = {'alpha': [0.00001, 0.0001, 0.001, 0.1, 1]}\n",
    "clf = GridSearchCV(model, param, cv=10, return_train_score=True)\n",
    "clf.fit(X_train_dtm, y_train)"
   ]
  },
  {
   "cell_type": "code",
   "execution_count": 17,
   "id": "50e1ef19",
   "metadata": {},
   "outputs": [
    {
     "name": "stdout",
     "output_type": "stream",
     "text": [
      "Best hyperparameters:  {'alpha': 1}\n",
      "Best score:  0.6034886165722624\n"
     ]
    }
   ],
   "source": [
    "print(\"Best hyperparameters: \", clf.best_params_)\n",
    "print(\"Best score: \", clf.best_score_)"
   ]
  },
  {
   "cell_type": "code",
   "execution_count": 18,
   "id": "8461a255",
   "metadata": {},
   "outputs": [
    {
     "name": "stdout",
     "output_type": "stream",
     "text": [
      "Accuracy Score: 63.0%\n",
      "F1 Score: 58.201790749382134%\n",
      "Wall time: 11.3 ms\n"
     ]
    }
   ],
   "source": [
    "%%time\n",
    "y_pred = clf.predict(X_test_dtm)\n",
    "\n",
    "acc = accuracy_score(y_test, y_pred) * 100\n",
    "f1 = f1_score(y_test, y_pred, average='weighted') * 100\n",
    "\n",
    "print('Accuracy Score: ', acc, '%', sep='')\n",
    "print('F1 Score: ', f1, '%', sep='')"
   ]
  },
  {
   "cell_type": "code",
   "execution_count": 19,
   "id": "9f89b2c3",
   "metadata": {},
   "outputs": [
    {
     "name": "stdout",
     "output_type": "stream",
     "text": [
      "              precision    recall  f1-score   support\n",
      "\n",
      "    NEGATIVE       0.69      0.76      0.73       508\n",
      "     NEUTRAL       0.60      0.02      0.04       160\n",
      "    POSITIVE       0.55      0.73      0.63       332\n",
      "\n",
      "    accuracy                           0.63      1000\n",
      "   macro avg       0.61      0.50      0.46      1000\n",
      "weighted avg       0.63      0.63      0.58      1000\n",
      "\n"
     ]
    },
    {
     "data": {
      "image/png": "[encoded data removed]",
      "text/plain": [
       "<Figure size 432x288 with 2 Axes>"
      ]
     },
     "metadata": {
      "needs_background": "light"
     },
     "output_type": "display_data"
    }
   ],
   "source": [
    "show_metrics(y_test, y_pred)"
   ]
  },
  {
   "cell_type": "code",
   "execution_count": 20,
   "id": "1d37443e",
   "metadata": {},
   "outputs": [],
   "source": [
    "# Store results\n",
    "logs['models']['nb'] = list(y_pred)\n",
    "logs['metrics']['nb'] = {'accuracy': acc, 'f1 score': f1}"
   ]
  },
  {
   "cell_type": "markdown",
   "id": "e068212c",
   "metadata": {},
   "source": [
    "#### Support Vector Machine (SVM)"
   ]
  },
  {
   "cell_type": "code",
   "execution_count": 21,
   "id": "b7d64618",
   "metadata": {
    "scrolled": true
   },
   "outputs": [
    {
     "name": "stdout",
     "output_type": "stream",
     "text": [
      "Fitting 5 folds for each of 36 candidates, totalling 180 fits\n",
      "[CV] END .......................C=0.1, gamma=0.1, kernel=rbf; total time=  43.1s\n",
      "[CV] END .......................C=0.1, gamma=0.1, kernel=rbf; total time=  42.0s\n",
      "[CV] END .......................C=0.1, gamma=0.1, kernel=rbf; total time=  46.1s\n",
      "[CV] END .......................C=0.1, gamma=0.1, kernel=rbf; total time=  48.2s\n",
      "[CV] END .......................C=0.1, gamma=0.1, kernel=rbf; total time=  44.6s\n",
      "[CV] END ...................C=0.1, gamma=0.1, kernel=sigmoid; total time=  42.8s\n",
      "[CV] END ...................C=0.1, gamma=0.1, kernel=sigmoid; total time=  41.8s\n",
      "[CV] END ...................C=0.1, gamma=0.1, kernel=sigmoid; total time=  43.0s\n",
      "[CV] END ...................C=0.1, gamma=0.1, kernel=sigmoid; total time=  42.8s\n",
      "[CV] END ...................C=0.1, gamma=0.1, kernel=sigmoid; total time=  43.0s\n",
      "[CV] END ....................C=0.1, gamma=0.1, kernel=linear; total time=  37.1s\n",
      "[CV] END ....................C=0.1, gamma=0.1, kernel=linear; total time=  36.7s\n",
      "[CV] END ....................C=0.1, gamma=0.1, kernel=linear; total time=  37.0s\n",
      "[CV] END ....................C=0.1, gamma=0.1, kernel=linear; total time=  37.5s\n",
      "[CV] END ....................C=0.1, gamma=0.1, kernel=linear; total time=  37.8s\n",
      "[CV] END ......................C=0.1, gamma=0.1, kernel=poly; total time=  40.1s\n",
      "[CV] END ......................C=0.1, gamma=0.1, kernel=poly; total time=  38.7s\n",
      "[CV] END ......................C=0.1, gamma=0.1, kernel=poly; total time=  39.4s\n",
      "[CV] END ......................C=0.1, gamma=0.1, kernel=poly; total time=  39.7s\n",
      "[CV] END ......................C=0.1, gamma=0.1, kernel=poly; total time=  38.8s\n",
      "[CV] END .........................C=0.1, gamma=1, kernel=rbf; total time=  44.6s\n",
      "[CV] END .........................C=0.1, gamma=1, kernel=rbf; total time=  42.8s\n",
      "[CV] END .........................C=0.1, gamma=1, kernel=rbf; total time=  45.4s\n",
      "[CV] END .........................C=0.1, gamma=1, kernel=rbf; total time=  45.2s\n",
      "[CV] END .........................C=0.1, gamma=1, kernel=rbf; total time=  43.5s\n",
      "[CV] END .....................C=0.1, gamma=1, kernel=sigmoid; total time=  36.9s\n",
      "[CV] END .....................C=0.1, gamma=1, kernel=sigmoid; total time=  35.4s\n",
      "[CV] END .....................C=0.1, gamma=1, kernel=sigmoid; total time=  36.7s\n",
      "[CV] END .....................C=0.1, gamma=1, kernel=sigmoid; total time=  37.1s\n",
      "[CV] END .....................C=0.1, gamma=1, kernel=sigmoid; total time=  39.3s\n",
      "[CV] END ......................C=0.1, gamma=1, kernel=linear; total time=  38.6s\n",
      "[CV] END ......................C=0.1, gamma=1, kernel=linear; total time=  34.8s\n",
      "[CV] END ......................C=0.1, gamma=1, kernel=linear; total time=  40.3s\n",
      "[CV] END ......................C=0.1, gamma=1, kernel=linear; total time=  39.3s\n",
      "[CV] END ......................C=0.1, gamma=1, kernel=linear; total time=  37.0s\n",
      "[CV] END ........................C=0.1, gamma=1, kernel=poly; total time= 1.0min\n",
      "[CV] END ........................C=0.1, gamma=1, kernel=poly; total time=  57.4s\n",
      "[CV] END ........................C=0.1, gamma=1, kernel=poly; total time= 1.0min\n",
      "[CV] END ........................C=0.1, gamma=1, kernel=poly; total time= 1.0min\n",
      "[CV] END ........................C=0.1, gamma=1, kernel=poly; total time= 1.0min\n",
      "[CV] END ........................C=0.1, gamma=10, kernel=rbf; total time= 1.8min\n",
      "[CV] END ........................C=0.1, gamma=10, kernel=rbf; total time= 1.7min\n",
      "[CV] END ........................C=0.1, gamma=10, kernel=rbf; total time= 1.9min\n",
      "[CV] END ........................C=0.1, gamma=10, kernel=rbf; total time= 1.8min\n",
      "[CV] END ........................C=0.1, gamma=10, kernel=rbf; total time= 1.7min\n",
      "[CV] END ....................C=0.1, gamma=10, kernel=sigmoid; total time=  35.4s\n",
      "[CV] END ....................C=0.1, gamma=10, kernel=sigmoid; total time=  33.6s\n",
      "[CV] END ....................C=0.1, gamma=10, kernel=sigmoid; total time=  35.4s\n",
      "[CV] END ....................C=0.1, gamma=10, kernel=sigmoid; total time=  34.3s\n",
      "[CV] END ....................C=0.1, gamma=10, kernel=sigmoid; total time=  36.6s\n",
      "[CV] END .....................C=0.1, gamma=10, kernel=linear; total time=  40.3s\n",
      "[CV] END .....................C=0.1, gamma=10, kernel=linear; total time=  37.5s\n",
      "[CV] END .....................C=0.1, gamma=10, kernel=linear; total time=  38.4s\n",
      "[CV] END .....................C=0.1, gamma=10, kernel=linear; total time=  39.5s\n",
      "[CV] END .....................C=0.1, gamma=10, kernel=linear; total time=  38.9s\n",
      "[CV] END .......................C=0.1, gamma=10, kernel=poly; total time= 2.8min\n",
      "[CV] END .......................C=0.1, gamma=10, kernel=poly; total time= 2.9min\n",
      "[CV] END .......................C=0.1, gamma=10, kernel=poly; total time= 2.8min\n",
      "[CV] END .......................C=0.1, gamma=10, kernel=poly; total time= 2.9min\n",
      "[CV] END .......................C=0.1, gamma=10, kernel=poly; total time= 2.9min\n",
      "[CV] END .........................C=1, gamma=0.1, kernel=rbf; total time=  38.7s\n",
      "[CV] END .........................C=1, gamma=0.1, kernel=rbf; total time=  38.0s\n",
      "[CV] END .........................C=1, gamma=0.1, kernel=rbf; total time=  36.5s\n",
      "[CV] END .........................C=1, gamma=0.1, kernel=rbf; total time=  37.3s\n",
      "[CV] END .........................C=1, gamma=0.1, kernel=rbf; total time=  38.5s\n",
      "[CV] END .....................C=1, gamma=0.1, kernel=sigmoid; total time=  38.2s\n",
      "[CV] END .....................C=1, gamma=0.1, kernel=sigmoid; total time=  37.1s\n",
      "[CV] END .....................C=1, gamma=0.1, kernel=sigmoid; total time=  38.9s\n",
      "[CV] END .....................C=1, gamma=0.1, kernel=sigmoid; total time=  41.0s\n",
      "[CV] END .....................C=1, gamma=0.1, kernel=sigmoid; total time=  38.4s\n",
      "[CV] END ......................C=1, gamma=0.1, kernel=linear; total time=  30.9s\n",
      "[CV] END ......................C=1, gamma=0.1, kernel=linear; total time=  29.1s\n",
      "[CV] END ......................C=1, gamma=0.1, kernel=linear; total time=  31.4s\n",
      "[CV] END ......................C=1, gamma=0.1, kernel=linear; total time=  32.2s\n",
      "[CV] END ......................C=1, gamma=0.1, kernel=linear; total time=  32.4s\n",
      "[CV] END ........................C=1, gamma=0.1, kernel=poly; total time=  43.9s\n",
      "[CV] END ........................C=1, gamma=0.1, kernel=poly; total time=  42.4s\n",
      "[CV] END ........................C=1, gamma=0.1, kernel=poly; total time=  44.0s\n",
      "[CV] END ........................C=1, gamma=0.1, kernel=poly; total time=  42.6s\n",
      "[CV] END ........................C=1, gamma=0.1, kernel=poly; total time=  43.4s\n",
      "[CV] END ...........................C=1, gamma=1, kernel=rbf; total time=  53.3s\n",
      "[CV] END ...........................C=1, gamma=1, kernel=rbf; total time=  50.3s\n",
      "[CV] END ...........................C=1, gamma=1, kernel=rbf; total time=  51.5s\n",
      "[CV] END ...........................C=1, gamma=1, kernel=rbf; total time=  52.2s\n",
      "[CV] END ...........................C=1, gamma=1, kernel=rbf; total time=  53.7s\n",
      "[CV] END .......................C=1, gamma=1, kernel=sigmoid; total time=  33.6s\n",
      "[CV] END .......................C=1, gamma=1, kernel=sigmoid; total time=  31.6s\n",
      "[CV] END .......................C=1, gamma=1, kernel=sigmoid; total time=  32.7s\n",
      "[CV] END .......................C=1, gamma=1, kernel=sigmoid; total time=  32.8s\n",
      "[CV] END .......................C=1, gamma=1, kernel=sigmoid; total time=  33.5s\n",
      "[CV] END ........................C=1, gamma=1, kernel=linear; total time=  31.2s\n",
      "[CV] END ........................C=1, gamma=1, kernel=linear; total time=  31.8s\n",
      "[CV] END ........................C=1, gamma=1, kernel=linear; total time=  30.4s\n",
      "[CV] END ........................C=1, gamma=1, kernel=linear; total time=  30.3s\n",
      "[CV] END ........................C=1, gamma=1, kernel=linear; total time=  31.2s\n",
      "[CV] END ..........................C=1, gamma=1, kernel=poly; total time= 1.7min\n",
      "[CV] END ..........................C=1, gamma=1, kernel=poly; total time= 1.6min\n",
      "[CV] END ..........................C=1, gamma=1, kernel=poly; total time= 1.7min\n",
      "[CV] END ..........................C=1, gamma=1, kernel=poly; total time= 1.7min\n",
      "[CV] END ..........................C=1, gamma=1, kernel=poly; total time= 1.7min\n",
      "[CV] END ..........................C=1, gamma=10, kernel=rbf; total time= 2.0min\n"
     ]
    },
    {
     "name": "stdout",
     "output_type": "stream",
     "text": [
      "[CV] END ..........................C=1, gamma=10, kernel=rbf; total time= 1.9min\n",
      "[CV] END ..........................C=1, gamma=10, kernel=rbf; total time= 2.0min\n",
      "[CV] END ..........................C=1, gamma=10, kernel=rbf; total time= 1.9min\n",
      "[CV] END ..........................C=1, gamma=10, kernel=rbf; total time= 2.0min\n",
      "[CV] END ......................C=1, gamma=10, kernel=sigmoid; total time=  27.2s\n",
      "[CV] END ......................C=1, gamma=10, kernel=sigmoid; total time=  25.6s\n",
      "[CV] END ......................C=1, gamma=10, kernel=sigmoid; total time=  25.5s\n",
      "[CV] END ......................C=1, gamma=10, kernel=sigmoid; total time=  24.0s\n",
      "[CV] END ......................C=1, gamma=10, kernel=sigmoid; total time=  28.7s\n",
      "[CV] END .......................C=1, gamma=10, kernel=linear; total time=  33.2s\n",
      "[CV] END .......................C=1, gamma=10, kernel=linear; total time=  30.1s\n",
      "[CV] END .......................C=1, gamma=10, kernel=linear; total time=  31.1s\n",
      "[CV] END .......................C=1, gamma=10, kernel=linear; total time=  31.9s\n",
      "[CV] END .......................C=1, gamma=10, kernel=linear; total time=  33.3s\n",
      "[CV] END .........................C=1, gamma=10, kernel=poly; total time= 3.8min\n",
      "[CV] END .........................C=1, gamma=10, kernel=poly; total time= 3.5min\n",
      "[CV] END .........................C=1, gamma=10, kernel=poly; total time= 3.1min\n",
      "[CV] END .........................C=1, gamma=10, kernel=poly; total time= 3.7min\n",
      "[CV] END .........................C=1, gamma=10, kernel=poly; total time= 3.7min\n",
      "[CV] END ........................C=10, gamma=0.1, kernel=rbf; total time=  36.6s\n",
      "[CV] END ........................C=10, gamma=0.1, kernel=rbf; total time=  34.5s\n",
      "[CV] END ........................C=10, gamma=0.1, kernel=rbf; total time=  35.8s\n",
      "[CV] END ........................C=10, gamma=0.1, kernel=rbf; total time=  35.8s\n",
      "[CV] END ........................C=10, gamma=0.1, kernel=rbf; total time=  35.1s\n",
      "[CV] END ....................C=10, gamma=0.1, kernel=sigmoid; total time=  36.7s\n",
      "[CV] END ....................C=10, gamma=0.1, kernel=sigmoid; total time=  32.2s\n",
      "[CV] END ....................C=10, gamma=0.1, kernel=sigmoid; total time=  33.9s\n",
      "[CV] END ....................C=10, gamma=0.1, kernel=sigmoid; total time=  33.3s\n",
      "[CV] END ....................C=10, gamma=0.1, kernel=sigmoid; total time=  34.5s\n",
      "[CV] END .....................C=10, gamma=0.1, kernel=linear; total time=  48.1s\n",
      "[CV] END .....................C=10, gamma=0.1, kernel=linear; total time=  42.7s\n",
      "[CV] END .....................C=10, gamma=0.1, kernel=linear; total time=  44.3s\n",
      "[CV] END .....................C=10, gamma=0.1, kernel=linear; total time=  45.2s\n",
      "[CV] END .....................C=10, gamma=0.1, kernel=linear; total time=  46.2s\n",
      "[CV] END .......................C=10, gamma=0.1, kernel=poly; total time=  55.9s\n",
      "[CV] END .......................C=10, gamma=0.1, kernel=poly; total time=  53.0s\n",
      "[CV] END .......................C=10, gamma=0.1, kernel=poly; total time=  55.3s\n",
      "[CV] END .......................C=10, gamma=0.1, kernel=poly; total time=  56.3s\n",
      "[CV] END .......................C=10, gamma=0.1, kernel=poly; total time=  58.9s\n",
      "[CV] END ..........................C=10, gamma=1, kernel=rbf; total time= 2.1min\n",
      "[CV] END ..........................C=10, gamma=1, kernel=rbf; total time= 2.0min\n",
      "[CV] END ..........................C=10, gamma=1, kernel=rbf; total time= 2.1min\n",
      "[CV] END ..........................C=10, gamma=1, kernel=rbf; total time= 2.1min\n",
      "[CV] END ..........................C=10, gamma=1, kernel=rbf; total time= 2.1min\n",
      "[CV] END ......................C=10, gamma=1, kernel=sigmoid; total time=  36.2s\n",
      "[CV] END ......................C=10, gamma=1, kernel=sigmoid; total time=  39.1s\n",
      "[CV] END ......................C=10, gamma=1, kernel=sigmoid; total time=  38.0s\n",
      "[CV] END ......................C=10, gamma=1, kernel=sigmoid; total time=  37.1s\n",
      "[CV] END ......................C=10, gamma=1, kernel=sigmoid; total time=  41.3s\n",
      "[CV] END .......................C=10, gamma=1, kernel=linear; total time=  45.1s\n",
      "[CV] END .......................C=10, gamma=1, kernel=linear; total time=  43.5s\n",
      "[CV] END .......................C=10, gamma=1, kernel=linear; total time=  46.2s\n",
      "[CV] END .......................C=10, gamma=1, kernel=linear; total time=  48.1s\n",
      "[CV] END .......................C=10, gamma=1, kernel=linear; total time=  47.6s\n",
      "[CV] END .........................C=10, gamma=1, kernel=poly; total time= 2.2min\n",
      "[CV] END .........................C=10, gamma=1, kernel=poly; total time= 2.1min\n",
      "[CV] END .........................C=10, gamma=1, kernel=poly; total time= 2.2min\n",
      "[CV] END .........................C=10, gamma=1, kernel=poly; total time= 2.3min\n",
      "[CV] END .........................C=10, gamma=1, kernel=poly; total time= 2.1min\n",
      "[CV] END .........................C=10, gamma=10, kernel=rbf; total time= 3.9min\n",
      "[CV] END .........................C=10, gamma=10, kernel=rbf; total time= 3.2min\n",
      "[CV] END .........................C=10, gamma=10, kernel=rbf; total time= 3.7min\n",
      "[CV] END .........................C=10, gamma=10, kernel=rbf; total time= 3.3min\n",
      "[CV] END .........................C=10, gamma=10, kernel=rbf; total time= 3.4min\n",
      "[CV] END .....................C=10, gamma=10, kernel=sigmoid; total time=  23.1s\n",
      "[CV] END .....................C=10, gamma=10, kernel=sigmoid; total time=  25.2s\n",
      "[CV] END .....................C=10, gamma=10, kernel=sigmoid; total time=  25.1s\n",
      "[CV] END .....................C=10, gamma=10, kernel=sigmoid; total time=  22.8s\n",
      "[CV] END .....................C=10, gamma=10, kernel=sigmoid; total time=  27.3s\n",
      "[CV] END ......................C=10, gamma=10, kernel=linear; total time=  44.9s\n",
      "[CV] END ......................C=10, gamma=10, kernel=linear; total time=  41.8s\n",
      "[CV] END ......................C=10, gamma=10, kernel=linear; total time=  44.6s\n",
      "[CV] END ......................C=10, gamma=10, kernel=linear; total time=  45.4s\n",
      "[CV] END ......................C=10, gamma=10, kernel=linear; total time=  45.6s\n",
      "[CV] END ........................C=10, gamma=10, kernel=poly; total time= 3.9min\n",
      "[CV] END ........................C=10, gamma=10, kernel=poly; total time= 3.6min\n",
      "[CV] END ........................C=10, gamma=10, kernel=poly; total time= 3.7min\n",
      "[CV] END ........................C=10, gamma=10, kernel=poly; total time= 3.9min\n",
      "[CV] END ........................C=10, gamma=10, kernel=poly; total time= 3.7min\n"
     ]
    },
    {
     "data": {
      "text/plain": [
       "GridSearchCV(estimator=SVC(),\n",
       "             param_grid={'C': [0.1, 1, 10], 'gamma': [0.1, 1, 10],\n",
       "                         'kernel': ['rbf', 'sigmoid', 'linear', 'poly']},\n",
       "             verbose=2)"
      ]
     },
     "execution_count": 21,
     "metadata": {},
     "output_type": "execute_result"
    }
   ],
   "source": [
    "# Hyperparameter tuning with GridSearch\n",
    "param = {'C': [0.1, 1, 10], 'gamma': [0.1, 1, 10], 'kernel': ['rbf', 'sigmoid', 'linear', 'poly']}\n",
    "clf = GridSearchCV(SVC(), param, refit=True, verbose=2)\n",
    "clf.fit(X_train_dtm, y_train)"
   ]
  },
  {
   "cell_type": "code",
   "execution_count": 22,
   "id": "0dee434d",
   "metadata": {},
   "outputs": [
    {
     "name": "stdout",
     "output_type": "stream",
     "text": [
      "Best hyperparameters:  {'C': 1, 'gamma': 1, 'kernel': 'rbf'}\n",
      "Best score:  0.6618269926101149\n"
     ]
    }
   ],
   "source": [
    "print(\"Best hyperparameters: \", clf.best_params_)\n",
    "print(\"Best score: \", clf.best_score_)"
   ]
  },
  {
   "cell_type": "code",
   "execution_count": 23,
   "id": "1ae9d570",
   "metadata": {},
   "outputs": [
    {
     "name": "stdout",
     "output_type": "stream",
     "text": [
      "Accuracy Score: 67.10000000000001%\n",
      "F1 Score: 64.6009710868085%\n",
      "Wall time: 2.37 s\n"
     ]
    }
   ],
   "source": [
    "%%time\n",
    "y_pred = clf.predict(X_test_dtm)\n",
    "\n",
    "acc = accuracy_score(y_test, y_pred) * 100\n",
    "f1 = f1_score(y_test, y_pred, average='weighted') * 100\n",
    "\n",
    "print('Accuracy Score: ', acc, '%', sep='')\n",
    "print('F1 Score: ', f1, '%', sep='')"
   ]
  },
  {
   "cell_type": "code",
   "execution_count": 24,
   "id": "e08148a9",
   "metadata": {},
   "outputs": [
    {
     "name": "stdout",
     "output_type": "stream",
     "text": [
      "              precision    recall  f1-score   support\n",
      "\n",
      "    NEGATIVE       0.70      0.80      0.75       508\n",
      "     NEUTRAL       0.56      0.17      0.27       160\n",
      "    POSITIVE       0.64      0.72      0.68       332\n",
      "\n",
      "    accuracy                           0.67      1000\n",
      "   macro avg       0.63      0.56      0.56      1000\n",
      "weighted avg       0.66      0.67      0.65      1000\n",
      "\n"
     ]
    },
    {
     "data": {
      "image/png": "[encoded data removed]",
      "text/plain": [
       "<Figure size 432x288 with 2 Axes>"
      ]
     },
     "metadata": {
      "needs_background": "light"
     },
     "output_type": "display_data"
    }
   ],
   "source": [
    "show_metrics(y_test, y_pred)"
   ]
  },
  {
   "cell_type": "code",
   "execution_count": 25,
   "id": "52b69d10",
   "metadata": {},
   "outputs": [],
   "source": [
    "# Store results\n",
    "logs['models']['svm'] = list(y_pred)\n",
    "logs['metrics']['svm'] = {'accuracy': acc, 'f1 score': f1}"
   ]
  },
  {
   "cell_type": "markdown",
   "id": "bcf4213e",
   "metadata": {},
   "source": [
    "#### XGBoost"
   ]
  },
  {
   "cell_type": "code",
   "execution_count": 26,
   "id": "0c3ce3a5",
   "metadata": {},
   "outputs": [
    {
     "name": "stderr",
     "output_type": "stream",
     "text": [
      "100%|███████████████████████████████████████████████████████████████████████████████| 30/30 [1:05:37<00:00, 131.26s/it]\n"
     ]
    }
   ],
   "source": [
    "xgb_accuracy = []\n",
    "xgb_f1s = []\n",
    "\n",
    "le = LabelEncoder()\n",
    "y_train_encoded = le.fit_transform(y_train)\n",
    "y_test_encoded = le.fit_transform(y_test)\n",
    "\n",
    "for i in tqdm(range(1, 31)):\n",
    "    xgb = XGBClassifier(max_depth = i, n_estimators = 250)\n",
    "    xgb.fit(X_train_dtm, y_train_encoded)\n",
    "    y_pred_encoded = xgb.predict(X_test_dtm)\n",
    "    y_pred = le.inverse_transform(y_pred_encoded)\n",
    "    \n",
    "    xgb_accuracy.append(accuracy_score(y_test, y_pred))\n",
    "    xgb_f1s.append(f1_score(y_test, y_pred, average='weighted'))"
   ]
  },
  {
   "cell_type": "code",
   "execution_count": 27,
   "id": "f19928b0",
   "metadata": {},
   "outputs": [
    {
     "data": {
      "image/png": "[encoded data removed]",
      "text/plain": [
       "<Figure size 864x432 with 1 Axes>"
      ]
     },
     "metadata": {
      "needs_background": "light"
     },
     "output_type": "display_data"
    }
   ],
   "source": [
    "plot_metrics((1, 31), # tuple\n",
    "             xgb_accuracy,  # list\n",
    "             xgb_f1s, # list\n",
    "             'Maximum Depth') # string eg. K Value, Maximum Depth"
   ]
  },
  {
   "cell_type": "code",
   "execution_count": 28,
   "id": "fb052347",
   "metadata": {},
   "outputs": [
    {
     "name": "stdout",
     "output_type": "stream",
     "text": [
      "Optimal maximum depth:  21\n",
      "Highest f1 score achieved:  0.6825290946357597\n"
     ]
    }
   ],
   "source": [
    "optimal_xgb_depth = xgb_f1s.index(max(xgb_f1s)) + 1\n",
    "print(\"Optimal maximum depth: \", optimal_xgb_depth)\n",
    "print(\"Highest f1 score achieved: \", max(xgb_f1s))"
   ]
  },
  {
   "cell_type": "code",
   "execution_count": 29,
   "id": "15faa113",
   "metadata": {},
   "outputs": [
    {
     "name": "stdout",
     "output_type": "stream",
     "text": [
      "Accuracy Score: 69.0%\n",
      "F1 Score: 68.25290946357597%\n",
      "Wall time: 2min 57s\n"
     ]
    }
   ],
   "source": [
    "%%time\n",
    "optimal_xgb = XGBClassifier(max_depth = optimal_xgb_depth, n_estimators = 250)\n",
    "optimal_xgb.fit(X_train_dtm, y_train_encoded)\n",
    "y_pred_encoded = optimal_xgb.predict(X_test_dtm)\n",
    "y_pred = le.inverse_transform(y_pred_encoded)\n",
    "\n",
    "acc = accuracy_score(y_test, y_pred) * 100\n",
    "f1 = f1_score(y_test, y_pred, average='weighted') * 100\n",
    "\n",
    "print('Accuracy Score: ', acc, '%', sep='')\n",
    "print('F1 Score: ', f1, '%', sep='')"
   ]
  },
  {
   "cell_type": "code",
   "execution_count": 30,
   "id": "ca532cca",
   "metadata": {},
   "outputs": [
    {
     "name": "stdout",
     "output_type": "stream",
     "text": [
      "              precision    recall  f1-score   support\n",
      "\n",
      "    NEGATIVE       0.74      0.76      0.75       508\n",
      "     NEUTRAL       0.55      0.36      0.44       160\n",
      "    POSITIVE       0.66      0.73      0.69       332\n",
      "\n",
      "    accuracy                           0.69      1000\n",
      "   macro avg       0.65      0.62      0.63      1000\n",
      "weighted avg       0.68      0.69      0.68      1000\n",
      "\n"
     ]
    },
    {
     "data": {
      "image/png": "[encoded data removed]",
      "text/plain": [
       "<Figure size 432x288 with 2 Axes>"
      ]
     },
     "metadata": {
      "needs_background": "light"
     },
     "output_type": "display_data"
    }
   ],
   "source": [
    "show_metrics(y_test, y_pred)"
   ]
  },
  {
   "cell_type": "code",
   "execution_count": 31,
   "id": "95b24f90",
   "metadata": {},
   "outputs": [],
   "source": [
    "# Store results\n",
    "logs['models']['xgboost'] = list(y_pred)\n",
    "logs['metrics']['xgboost'] = {'accuracy': acc, 'f1 score': f1}"
   ]
  },
  {
   "cell_type": "markdown",
   "id": "5a6a7028",
   "metadata": {},
   "source": [
    "### Ensemble Classification\n",
    "\n",
    "#### Stacked Classifier"
   ]
  },
  {
   "cell_type": "code",
   "execution_count": 32,
   "id": "ad1912fc",
   "metadata": {},
   "outputs": [],
   "source": [
    "stacked_est = [('xgb', XGBClassifier(max_depth = optimal_xgb_depth, n_estimators = 250)),\n",
    "               ('svm', SVC(C = 1, gamma = 1, kernel = 'rbf')),\n",
    "               ('nb', MultinomialNB(alpha = 0.1))]\n",
    "final_est = LogisticRegression(solver = 'saga', multi_class = 'multinomial')"
   ]
  },
  {
   "cell_type": "code",
   "execution_count": 33,
   "id": "cc57f9d6",
   "metadata": {},
   "outputs": [
    {
     "name": "stdout",
     "output_type": "stream",
     "text": [
      "Accuracy Score: 68.2%\n",
      "F1 Score: 66.71134687469336%\n",
      "Wall time: 21min 21s\n"
     ]
    }
   ],
   "source": [
    "%%time\n",
    "stacked_clf = StackingClassifier(estimators = stacked_est,\n",
    "                                 final_estimator = final_est,\n",
    "                                 n_jobs = 1)\n",
    "stacked_clf.fit(X_train_dtm, y_train_encoded)\n",
    "y_pred_encoded = stacked_clf.predict(X_test_dtm)\n",
    "y_pred = le.inverse_transform(y_pred_encoded)\n",
    "\n",
    "acc = accuracy_score(y_test, y_pred) * 100\n",
    "f1 = f1_score(y_test, y_pred, average='weighted') * 100\n",
    "\n",
    "print('Accuracy Score: ', acc, '%', sep='')\n",
    "print('F1 Score: ', f1, '%', sep='')"
   ]
  },
  {
   "cell_type": "code",
   "execution_count": 34,
   "id": "41a17446",
   "metadata": {},
   "outputs": [
    {
     "name": "stdout",
     "output_type": "stream",
     "text": [
      "              precision    recall  f1-score   support\n",
      "\n",
      "    NEGATIVE       0.71      0.79      0.75       508\n",
      "     NEUTRAL       0.57      0.28      0.37       160\n",
      "    POSITIVE       0.66      0.71      0.69       332\n",
      "\n",
      "    accuracy                           0.68      1000\n",
      "   macro avg       0.65      0.59      0.60      1000\n",
      "weighted avg       0.67      0.68      0.67      1000\n",
      "\n"
     ]
    },
    {
     "data": {
      "image/png": "[encoded data removed]",
      "text/plain": [
       "<Figure size 432x288 with 2 Axes>"
      ]
     },
     "metadata": {
      "needs_background": "light"
     },
     "output_type": "display_data"
    }
   ],
   "source": [
    "show_metrics(y_test, y_pred)"
   ]
  },
  {
   "cell_type": "code",
   "execution_count": 35,
   "id": "60432186",
   "metadata": {},
   "outputs": [],
   "source": [
    "# Store results\n",
    "logs['models']['stacked'] = list(y_pred)\n",
    "logs['metrics']['stacked'] = {'accuracy': acc, 'f1 score': f1}"
   ]
  },
  {
   "cell_type": "markdown",
   "id": "b76f568b",
   "metadata": {},
   "source": [
    "### Experiment Findings"
   ]
  },
  {
   "cell_type": "code",
   "execution_count": 36,
   "id": "7f8920dd",
   "metadata": {},
   "outputs": [
    {
     "data": {
      "text/html": [
       "<div>\n",
       "<style scoped>\n",
       "    .dataframe tbody tr th:only-of-type {\n",
       "        vertical-align: middle;\n",
       "    }\n",
       "\n",
       "    .dataframe tbody tr th {\n",
       "        vertical-align: top;\n",
       "    }\n",
       "\n",
       "    .dataframe thead th {\n",
       "        text-align: right;\n",
       "    }\n",
       "</style>\n",
       "<table border=\"1\" class=\"dataframe\">\n",
       "  <thead>\n",
       "    <tr style=\"text-align: right;\">\n",
       "      <th></th>\n",
       "      <th>xgboost</th>\n",
       "      <th>stacked</th>\n",
       "      <th>svm</th>\n",
       "      <th>nb</th>\n",
       "    </tr>\n",
       "  </thead>\n",
       "  <tbody>\n",
       "    <tr>\n",
       "      <th>accuracy</th>\n",
       "      <td>69.000000</td>\n",
       "      <td>68.200000</td>\n",
       "      <td>67.100000</td>\n",
       "      <td>63.000000</td>\n",
       "    </tr>\n",
       "    <tr>\n",
       "      <th>f1 score</th>\n",
       "      <td>68.252909</td>\n",
       "      <td>66.711347</td>\n",
       "      <td>64.600971</td>\n",
       "      <td>58.201791</td>\n",
       "    </tr>\n",
       "  </tbody>\n",
       "</table>\n",
       "</div>"
      ],
      "text/plain": [
       "            xgboost    stacked        svm         nb\n",
       "accuracy  69.000000  68.200000  67.100000  63.000000\n",
       "f1 score  68.252909  66.711347  64.600971  58.201791"
      ]
     },
     "execution_count": 36,
     "metadata": {},
     "output_type": "execute_result"
    }
   ],
   "source": [
    "# Sort base on f1 score\n",
    "metrics_df = pd.DataFrame.from_dict(logs['metrics'])\n",
    "metrics_df.sort_values(by=['f1 score'], axis=1, ascending=False, inplace=False)"
   ]
  },
  {
   "cell_type": "code",
   "execution_count": 37,
   "id": "d4bacd4f",
   "metadata": {},
   "outputs": [
    {
     "data": {
      "text/html": [
       "<div>\n",
       "<style scoped>\n",
       "    .dataframe tbody tr th:only-of-type {\n",
       "        vertical-align: middle;\n",
       "    }\n",
       "\n",
       "    .dataframe tbody tr th {\n",
       "        vertical-align: top;\n",
       "    }\n",
       "\n",
       "    .dataframe thead th {\n",
       "        text-align: right;\n",
       "    }\n",
       "</style>\n",
       "<table border=\"1\" class=\"dataframe\">\n",
       "  <thead>\n",
       "    <tr style=\"text-align: right;\">\n",
       "      <th></th>\n",
       "      <th>dataset</th>\n",
       "      <th>category</th>\n",
       "      <th>subreddit</th>\n",
       "      <th>author</th>\n",
       "      <th>created_date</th>\n",
       "      <th>score</th>\n",
       "      <th>text</th>\n",
       "      <th>text_clean</th>\n",
       "      <th>label_1</th>\n",
       "      <th>label_2</th>\n",
       "      <th>...</th>\n",
       "      <th>final_label</th>\n",
       "      <th>index</th>\n",
       "      <th>no_stopword_text_clean</th>\n",
       "      <th>normalize_text_clean</th>\n",
       "      <th>X_test</th>\n",
       "      <th>y_test</th>\n",
       "      <th>nb</th>\n",
       "      <th>svm</th>\n",
       "      <th>xgboost</th>\n",
       "      <th>stacked</th>\n",
       "    </tr>\n",
       "  </thead>\n",
       "  <tbody>\n",
       "    <tr>\n",
       "      <th>0</th>\n",
       "      <td>test</td>\n",
       "      <td>comment</td>\n",
       "      <td>r/china</td>\n",
       "      <td>SuspiciousStable9649</td>\n",
       "      <td>5/14/2022 3:53</td>\n",
       "      <td>1</td>\n",
       "      <td>- Workers ?????????can see the ceiling, due ...</td>\n",
       "      <td>workers can see the ceiling due to market matu...</td>\n",
       "      <td>NEGATIVE</td>\n",
       "      <td>POSITIVE</td>\n",
       "      <td>...</td>\n",
       "      <td>NEGATIVE</td>\n",
       "      <td>19558</td>\n",
       "      <td>workers see ceiling due market maturations hu ...</td>\n",
       "      <td>workers see ceiling due market maturations hu ...</td>\n",
       "      <td>workers see ceiling due market maturations hu ...</td>\n",
       "      <td>NEGATIVE</td>\n",
       "      <td>NEGATIVE</td>\n",
       "      <td>NEGATIVE</td>\n",
       "      <td>POSITIVE</td>\n",
       "      <td>NEGATIVE</td>\n",
       "    </tr>\n",
       "    <tr>\n",
       "      <th>1</th>\n",
       "      <td>test</td>\n",
       "      <td>comment</td>\n",
       "      <td>r/unitedkingdom</td>\n",
       "      <td>Phallic_Entity</td>\n",
       "      <td>11/1/2020 1:21</td>\n",
       "      <td>8</td>\n",
       "      <td>&gt; The country will be broke and in masses of ...</td>\n",
       "      <td>the country will be broke and in masses of deb...</td>\n",
       "      <td>NEGATIVE</td>\n",
       "      <td>NEGATIVE</td>\n",
       "      <td>...</td>\n",
       "      <td>NEGATIVE</td>\n",
       "      <td>19559</td>\n",
       "      <td>country broke masses debt sell northern labour...</td>\n",
       "      <td>country broke masses debt sell northern labour...</td>\n",
       "      <td>country broke masses debt sell northern labour...</td>\n",
       "      <td>NEGATIVE</td>\n",
       "      <td>NEGATIVE</td>\n",
       "      <td>NEGATIVE</td>\n",
       "      <td>NEGATIVE</td>\n",
       "      <td>NEGATIVE</td>\n",
       "    </tr>\n",
       "    <tr>\n",
       "      <th>2</th>\n",
       "      <td>test</td>\n",
       "      <td>comment</td>\n",
       "      <td>r/usa</td>\n",
       "      <td>dannylenwinn</td>\n",
       "      <td>4/2/2021 16:28</td>\n",
       "      <td>-1</td>\n",
       "      <td>The U.S. economy added a whopping 916,000 job...</td>\n",
       "      <td>the us economy added a whopping jobs last mont...</td>\n",
       "      <td>NEGATIVE</td>\n",
       "      <td>POSITIVE</td>\n",
       "      <td>...</td>\n",
       "      <td>POSITIVE</td>\n",
       "      <td>19560</td>\n",
       "      <td>us economy added whopping jobs last month unem...</td>\n",
       "      <td>us economy added whopping jobs last month unem...</td>\n",
       "      <td>us economy added whopping jobs last month unem...</td>\n",
       "      <td>POSITIVE</td>\n",
       "      <td>NEGATIVE</td>\n",
       "      <td>NEGATIVE</td>\n",
       "      <td>POSITIVE</td>\n",
       "      <td>NEGATIVE</td>\n",
       "    </tr>\n",
       "    <tr>\n",
       "      <th>3</th>\n",
       "      <td>test</td>\n",
       "      <td>comment</td>\n",
       "      <td>r/cscareerquestions</td>\n",
       "      <td>NaN</td>\n",
       "      <td>11/30/2022 21:11</td>\n",
       "      <td>26</td>\n",
       "      <td>?????????I don?????????t have cobol mentione...</td>\n",
       "      <td>i dont have cobol mentioned on my resume okay ...</td>\n",
       "      <td>POSITIVE</td>\n",
       "      <td>POSITIVE</td>\n",
       "      <td>...</td>\n",
       "      <td>POSITIVE</td>\n",
       "      <td>19561</td>\n",
       "      <td>dont cobol mentioned resume okay makes sense y...</td>\n",
       "      <td>dont cobol mentioned resume okay makes sense y...</td>\n",
       "      <td>dont cobol mentioned resume okay makes sense y...</td>\n",
       "      <td>POSITIVE</td>\n",
       "      <td>POSITIVE</td>\n",
       "      <td>POSITIVE</td>\n",
       "      <td>POSITIVE</td>\n",
       "      <td>POSITIVE</td>\n",
       "    </tr>\n",
       "    <tr>\n",
       "      <th>4</th>\n",
       "      <td>test</td>\n",
       "      <td>comment</td>\n",
       "      <td>r/cscareerquestions</td>\n",
       "      <td>soprof</td>\n",
       "      <td>11/17/2016 9:41</td>\n",
       "      <td>13</td>\n",
       "      <td>20 years...\\nThat's like a century in IT. Quak...</td>\n",
       "      <td>years thats like a century in it quake and dia...</td>\n",
       "      <td>POSITIVE</td>\n",
       "      <td>POSITIVE</td>\n",
       "      <td>...</td>\n",
       "      <td>POSITIVE</td>\n",
       "      <td>19562</td>\n",
       "      <td>years thats like century quake diablo released...</td>\n",
       "      <td>years thats like century quake diablo released...</td>\n",
       "      <td>years thats like century quake diablo released...</td>\n",
       "      <td>POSITIVE</td>\n",
       "      <td>POSITIVE</td>\n",
       "      <td>POSITIVE</td>\n",
       "      <td>POSITIVE</td>\n",
       "      <td>POSITIVE</td>\n",
       "    </tr>\n",
       "  </tbody>\n",
       "</table>\n",
       "<p>5 rows × 21 columns</p>\n",
       "</div>"
      ],
      "text/plain": [
       "  dataset category            subreddit                author  \\\n",
       "0    test  comment              r/china  SuspiciousStable9649   \n",
       "1    test  comment      r/unitedkingdom        Phallic_Entity   \n",
       "2    test  comment                r/usa          dannylenwinn   \n",
       "3    test  comment  r/cscareerquestions                   NaN   \n",
       "4    test  comment  r/cscareerquestions                soprof   \n",
       "\n",
       "       created_date  score                                               text  \\\n",
       "0    5/14/2022 3:53      1   - Workers ?????????can see the ceiling, due ...   \n",
       "1    11/1/2020 1:21      8   > The country will be broke and in masses of ...   \n",
       "2    4/2/2021 16:28     -1   The U.S. economy added a whopping 916,000 job...   \n",
       "3  11/30/2022 21:11     26  ?????????I don?????????t have cobol mentione...   \n",
       "4   11/17/2016 9:41     13  20 years...\\nThat's like a century in IT. Quak...   \n",
       "\n",
       "                                          text_clean   label_1   label_2  ...  \\\n",
       "0  workers can see the ceiling due to market matu...  NEGATIVE  POSITIVE  ...   \n",
       "1  the country will be broke and in masses of deb...  NEGATIVE  NEGATIVE  ...   \n",
       "2  the us economy added a whopping jobs last mont...  NEGATIVE  POSITIVE  ...   \n",
       "3  i dont have cobol mentioned on my resume okay ...  POSITIVE  POSITIVE  ...   \n",
       "4  years thats like a century in it quake and dia...  POSITIVE  POSITIVE  ...   \n",
       "\n",
       "  final_label  index                             no_stopword_text_clean  \\\n",
       "0    NEGATIVE  19558  workers see ceiling due market maturations hu ...   \n",
       "1    NEGATIVE  19559  country broke masses debt sell northern labour...   \n",
       "2    POSITIVE  19560  us economy added whopping jobs last month unem...   \n",
       "3    POSITIVE  19561  dont cobol mentioned resume okay makes sense y...   \n",
       "4    POSITIVE  19562  years thats like century quake diablo released...   \n",
       "\n",
       "                                normalize_text_clean  \\\n",
       "0  workers see ceiling due market maturations hu ...   \n",
       "1  country broke masses debt sell northern labour...   \n",
       "2  us economy added whopping jobs last month unem...   \n",
       "3  dont cobol mentioned resume okay makes sense y...   \n",
       "4  years thats like century quake diablo released...   \n",
       "\n",
       "                                              X_test    y_test        nb  \\\n",
       "0  workers see ceiling due market maturations hu ...  NEGATIVE  NEGATIVE   \n",
       "1  country broke masses debt sell northern labour...  NEGATIVE  NEGATIVE   \n",
       "2  us economy added whopping jobs last month unem...  POSITIVE  NEGATIVE   \n",
       "3  dont cobol mentioned resume okay makes sense y...  POSITIVE  POSITIVE   \n",
       "4  years thats like century quake diablo released...  POSITIVE  POSITIVE   \n",
       "\n",
       "        svm   xgboost   stacked  \n",
       "0  NEGATIVE  POSITIVE  NEGATIVE  \n",
       "1  NEGATIVE  NEGATIVE  NEGATIVE  \n",
       "2  NEGATIVE  POSITIVE  NEGATIVE  \n",
       "3  POSITIVE  POSITIVE  POSITIVE  \n",
       "4  POSITIVE  POSITIVE  POSITIVE  \n",
       "\n",
       "[5 rows x 21 columns]"
      ]
     },
     "execution_count": 37,
     "metadata": {},
     "output_type": "execute_result"
    }
   ],
   "source": [
    "# View test dataset with model results\n",
    "findings_df = pd.DataFrame.from_dict(logs['models'])\n",
    "findings_df = pd.merge(df, findings_df, left_on='index', right_on='index')\n",
    "findings_df.head()"
   ]
  },
  {
   "cell_type": "code",
   "execution_count": 38,
   "id": "0b436dab",
   "metadata": {},
   "outputs": [],
   "source": [
    "findings_df.to_csv('findings_TradML.csv')"
   ]
  },
  {
   "cell_type": "code",
   "execution_count": 39,
   "id": "ea45f035",
   "metadata": {},
   "outputs": [],
   "source": [
    "metrics_df.to_csv('metrics_TradML.csv')"
   ]
  },
  {
   "cell_type": "code",
   "execution_count": null,
   "id": "07d83887",
   "metadata": {},
   "outputs": [],
   "source": []
  }
 ],
 "metadata": {
  "kernelspec": {
   "display_name": "Python 3 (ipykernel)",
   "language": "python",
   "name": "python3"
  },
  "language_info": {
   "codemirror_mode": {
    "name": "ipython",
    "version": 3
   },
   "file_extension": ".py",
   "mimetype": "text/x-python",
   "name": "python",
   "nbconvert_exporter": "python",
   "pygments_lexer": "ipython3",
   "version": "3.9.7"
  }
 },
 "nbformat": 4,
 "nbformat_minor": 5
}
